{
 "cells": [
  {
   "cell_type": "markdown",
   "metadata": {},
   "source": [
    "### Income Dataset\n",
    "#### Perform Binary Classification to predict if Salary is greater than $50K"
   ]
  },
  {
   "cell_type": "code",
   "execution_count": 1,
   "metadata": {},
   "outputs": [],
   "source": [
    "import pandas as pd\n",
    "import numpy as np\n",
    "import matplotlib.pyplot as plt\n",
    "import seaborn as sns"
   ]
  },
  {
   "cell_type": "code",
   "execution_count": 2,
   "metadata": {},
   "outputs": [
    {
     "data": {
      "text/html": [
       "<div>\n",
       "<style scoped>\n",
       "    .dataframe tbody tr th:only-of-type {\n",
       "        vertical-align: middle;\n",
       "    }\n",
       "\n",
       "    .dataframe tbody tr th {\n",
       "        vertical-align: top;\n",
       "    }\n",
       "\n",
       "    .dataframe thead th {\n",
       "        text-align: right;\n",
       "    }\n",
       "</style>\n",
       "<table border=\"1\" class=\"dataframe\">\n",
       "  <thead>\n",
       "    <tr style=\"text-align: right;\">\n",
       "      <th></th>\n",
       "      <th>age</th>\n",
       "      <th>workclass</th>\n",
       "      <th>fnlwgt</th>\n",
       "      <th>education</th>\n",
       "      <th>educational-num</th>\n",
       "      <th>marital-status</th>\n",
       "      <th>occupation</th>\n",
       "      <th>relationship</th>\n",
       "      <th>race</th>\n",
       "      <th>gender</th>\n",
       "      <th>capital-gain</th>\n",
       "      <th>capital-loss</th>\n",
       "      <th>hours-per-week</th>\n",
       "      <th>native-country</th>\n",
       "      <th>income_&gt;50K</th>\n",
       "    </tr>\n",
       "  </thead>\n",
       "  <tbody>\n",
       "    <tr>\n",
       "      <th>0</th>\n",
       "      <td>67</td>\n",
       "      <td>Private</td>\n",
       "      <td>366425</td>\n",
       "      <td>Doctorate</td>\n",
       "      <td>16</td>\n",
       "      <td>Divorced</td>\n",
       "      <td>Exec-managerial</td>\n",
       "      <td>Not-in-family</td>\n",
       "      <td>White</td>\n",
       "      <td>Male</td>\n",
       "      <td>99999</td>\n",
       "      <td>0</td>\n",
       "      <td>60</td>\n",
       "      <td>United-States</td>\n",
       "      <td>1</td>\n",
       "    </tr>\n",
       "    <tr>\n",
       "      <th>1</th>\n",
       "      <td>17</td>\n",
       "      <td>Private</td>\n",
       "      <td>244602</td>\n",
       "      <td>12th</td>\n",
       "      <td>8</td>\n",
       "      <td>Never-married</td>\n",
       "      <td>Other-service</td>\n",
       "      <td>Own-child</td>\n",
       "      <td>White</td>\n",
       "      <td>Male</td>\n",
       "      <td>0</td>\n",
       "      <td>0</td>\n",
       "      <td>15</td>\n",
       "      <td>United-States</td>\n",
       "      <td>0</td>\n",
       "    </tr>\n",
       "    <tr>\n",
       "      <th>2</th>\n",
       "      <td>31</td>\n",
       "      <td>Private</td>\n",
       "      <td>174201</td>\n",
       "      <td>Bachelors</td>\n",
       "      <td>13</td>\n",
       "      <td>Married-civ-spouse</td>\n",
       "      <td>Exec-managerial</td>\n",
       "      <td>Husband</td>\n",
       "      <td>White</td>\n",
       "      <td>Male</td>\n",
       "      <td>0</td>\n",
       "      <td>0</td>\n",
       "      <td>40</td>\n",
       "      <td>United-States</td>\n",
       "      <td>1</td>\n",
       "    </tr>\n",
       "    <tr>\n",
       "      <th>3</th>\n",
       "      <td>58</td>\n",
       "      <td>State-gov</td>\n",
       "      <td>110199</td>\n",
       "      <td>7th-8th</td>\n",
       "      <td>4</td>\n",
       "      <td>Married-civ-spouse</td>\n",
       "      <td>Transport-moving</td>\n",
       "      <td>Husband</td>\n",
       "      <td>White</td>\n",
       "      <td>Male</td>\n",
       "      <td>0</td>\n",
       "      <td>0</td>\n",
       "      <td>40</td>\n",
       "      <td>United-States</td>\n",
       "      <td>0</td>\n",
       "    </tr>\n",
       "    <tr>\n",
       "      <th>4</th>\n",
       "      <td>25</td>\n",
       "      <td>State-gov</td>\n",
       "      <td>149248</td>\n",
       "      <td>Some-college</td>\n",
       "      <td>10</td>\n",
       "      <td>Never-married</td>\n",
       "      <td>Other-service</td>\n",
       "      <td>Not-in-family</td>\n",
       "      <td>Black</td>\n",
       "      <td>Male</td>\n",
       "      <td>0</td>\n",
       "      <td>0</td>\n",
       "      <td>40</td>\n",
       "      <td>United-States</td>\n",
       "      <td>0</td>\n",
       "    </tr>\n",
       "  </tbody>\n",
       "</table>\n",
       "</div>"
      ],
      "text/plain": [
       "   age  workclass  fnlwgt     education  educational-num      marital-status  \\\n",
       "0   67    Private  366425     Doctorate               16            Divorced   \n",
       "1   17    Private  244602          12th                8       Never-married   \n",
       "2   31    Private  174201     Bachelors               13  Married-civ-spouse   \n",
       "3   58  State-gov  110199       7th-8th                4  Married-civ-spouse   \n",
       "4   25  State-gov  149248  Some-college               10       Never-married   \n",
       "\n",
       "         occupation   relationship   race gender  capital-gain  capital-loss  \\\n",
       "0   Exec-managerial  Not-in-family  White   Male         99999             0   \n",
       "1     Other-service      Own-child  White   Male             0             0   \n",
       "2   Exec-managerial        Husband  White   Male             0             0   \n",
       "3  Transport-moving        Husband  White   Male             0             0   \n",
       "4     Other-service  Not-in-family  Black   Male             0             0   \n",
       "\n",
       "   hours-per-week native-country  income_>50K  \n",
       "0              60  United-States            1  \n",
       "1              15  United-States            0  \n",
       "2              40  United-States            1  \n",
       "3              40  United-States            0  \n",
       "4              40  United-States            0  "
      ]
     },
     "execution_count": 2,
     "metadata": {},
     "output_type": "execute_result"
    }
   ],
   "source": [
    "df = pd.read_csv('C:/Users/odhia/OneDrive/Desktop/mlopsProjects/notebook/data/income.csv')\n",
    "df.head()"
   ]
  },
  {
   "cell_type": "code",
   "execution_count": 3,
   "metadata": {},
   "outputs": [
    {
     "name": "stdout",
     "output_type": "stream",
     "text": [
      "<class 'pandas.core.frame.DataFrame'>\n",
      "RangeIndex: 43957 entries, 0 to 43956\n",
      "Data columns (total 15 columns):\n",
      " #   Column           Non-Null Count  Dtype \n",
      "---  ------           --------------  ----- \n",
      " 0   age              43957 non-null  int64 \n",
      " 1   workclass        41459 non-null  object\n",
      " 2   fnlwgt           43957 non-null  int64 \n",
      " 3   education        43957 non-null  object\n",
      " 4   educational-num  43957 non-null  int64 \n",
      " 5   marital-status   43957 non-null  object\n",
      " 6   occupation       41451 non-null  object\n",
      " 7   relationship     43957 non-null  object\n",
      " 8   race             43957 non-null  object\n",
      " 9   gender           43957 non-null  object\n",
      " 10  capital-gain     43957 non-null  int64 \n",
      " 11  capital-loss     43957 non-null  int64 \n",
      " 12  hours-per-week   43957 non-null  int64 \n",
      " 13  native-country   43194 non-null  object\n",
      " 14  income_>50K      43957 non-null  int64 \n",
      "dtypes: int64(7), object(8)\n",
      "memory usage: 5.0+ MB\n"
     ]
    }
   ],
   "source": [
    "df.info()"
   ]
  },
  {
   "cell_type": "code",
   "execution_count": 4,
   "metadata": {},
   "outputs": [
    {
     "data": {
      "text/html": [
       "<div>\n",
       "<style scoped>\n",
       "    .dataframe tbody tr th:only-of-type {\n",
       "        vertical-align: middle;\n",
       "    }\n",
       "\n",
       "    .dataframe tbody tr th {\n",
       "        vertical-align: top;\n",
       "    }\n",
       "\n",
       "    .dataframe thead th {\n",
       "        text-align: right;\n",
       "    }\n",
       "</style>\n",
       "<table border=\"1\" class=\"dataframe\">\n",
       "  <thead>\n",
       "    <tr style=\"text-align: right;\">\n",
       "      <th></th>\n",
       "      <th>age</th>\n",
       "      <th>fnlwgt</th>\n",
       "      <th>educational-num</th>\n",
       "      <th>capital-gain</th>\n",
       "      <th>capital-loss</th>\n",
       "      <th>hours-per-week</th>\n",
       "      <th>income_&gt;50K</th>\n",
       "    </tr>\n",
       "  </thead>\n",
       "  <tbody>\n",
       "    <tr>\n",
       "      <th>count</th>\n",
       "      <td>43957.000000</td>\n",
       "      <td>4.395700e+04</td>\n",
       "      <td>43957.000000</td>\n",
       "      <td>43957.000000</td>\n",
       "      <td>43957.000000</td>\n",
       "      <td>43957.000000</td>\n",
       "      <td>43957.000000</td>\n",
       "    </tr>\n",
       "    <tr>\n",
       "      <th>mean</th>\n",
       "      <td>38.617149</td>\n",
       "      <td>1.896730e+05</td>\n",
       "      <td>10.074118</td>\n",
       "      <td>1093.559797</td>\n",
       "      <td>88.246491</td>\n",
       "      <td>40.407694</td>\n",
       "      <td>0.239279</td>\n",
       "    </tr>\n",
       "    <tr>\n",
       "      <th>std</th>\n",
       "      <td>13.734401</td>\n",
       "      <td>1.058215e+05</td>\n",
       "      <td>2.575092</td>\n",
       "      <td>7570.536063</td>\n",
       "      <td>404.588410</td>\n",
       "      <td>12.400303</td>\n",
       "      <td>0.426648</td>\n",
       "    </tr>\n",
       "    <tr>\n",
       "      <th>min</th>\n",
       "      <td>17.000000</td>\n",
       "      <td>1.349200e+04</td>\n",
       "      <td>1.000000</td>\n",
       "      <td>0.000000</td>\n",
       "      <td>0.000000</td>\n",
       "      <td>1.000000</td>\n",
       "      <td>0.000000</td>\n",
       "    </tr>\n",
       "    <tr>\n",
       "      <th>25%</th>\n",
       "      <td>28.000000</td>\n",
       "      <td>1.174960e+05</td>\n",
       "      <td>9.000000</td>\n",
       "      <td>0.000000</td>\n",
       "      <td>0.000000</td>\n",
       "      <td>40.000000</td>\n",
       "      <td>0.000000</td>\n",
       "    </tr>\n",
       "    <tr>\n",
       "      <th>50%</th>\n",
       "      <td>37.000000</td>\n",
       "      <td>1.781000e+05</td>\n",
       "      <td>10.000000</td>\n",
       "      <td>0.000000</td>\n",
       "      <td>0.000000</td>\n",
       "      <td>40.000000</td>\n",
       "      <td>0.000000</td>\n",
       "    </tr>\n",
       "    <tr>\n",
       "      <th>75%</th>\n",
       "      <td>48.000000</td>\n",
       "      <td>2.376710e+05</td>\n",
       "      <td>12.000000</td>\n",
       "      <td>0.000000</td>\n",
       "      <td>0.000000</td>\n",
       "      <td>45.000000</td>\n",
       "      <td>0.000000</td>\n",
       "    </tr>\n",
       "    <tr>\n",
       "      <th>max</th>\n",
       "      <td>90.000000</td>\n",
       "      <td>1.490400e+06</td>\n",
       "      <td>16.000000</td>\n",
       "      <td>99999.000000</td>\n",
       "      <td>4356.000000</td>\n",
       "      <td>99.000000</td>\n",
       "      <td>1.000000</td>\n",
       "    </tr>\n",
       "  </tbody>\n",
       "</table>\n",
       "</div>"
      ],
      "text/plain": [
       "                age        fnlwgt  educational-num  capital-gain  \\\n",
       "count  43957.000000  4.395700e+04     43957.000000  43957.000000   \n",
       "mean      38.617149  1.896730e+05        10.074118   1093.559797   \n",
       "std       13.734401  1.058215e+05         2.575092   7570.536063   \n",
       "min       17.000000  1.349200e+04         1.000000      0.000000   \n",
       "25%       28.000000  1.174960e+05         9.000000      0.000000   \n",
       "50%       37.000000  1.781000e+05        10.000000      0.000000   \n",
       "75%       48.000000  2.376710e+05        12.000000      0.000000   \n",
       "max       90.000000  1.490400e+06        16.000000  99999.000000   \n",
       "\n",
       "       capital-loss  hours-per-week   income_>50K  \n",
       "count  43957.000000    43957.000000  43957.000000  \n",
       "mean      88.246491       40.407694      0.239279  \n",
       "std      404.588410       12.400303      0.426648  \n",
       "min        0.000000        1.000000      0.000000  \n",
       "25%        0.000000       40.000000      0.000000  \n",
       "50%        0.000000       40.000000      0.000000  \n",
       "75%        0.000000       45.000000      0.000000  \n",
       "max     4356.000000       99.000000      1.000000  "
      ]
     },
     "execution_count": 4,
     "metadata": {},
     "output_type": "execute_result"
    }
   ],
   "source": [
    "df.describe()"
   ]
  },
  {
   "cell_type": "code",
   "execution_count": 5,
   "metadata": {},
   "outputs": [
    {
     "data": {
      "text/plain": [
       "45"
      ]
     },
     "execution_count": 5,
     "metadata": {},
     "output_type": "execute_result"
    }
   ],
   "source": [
    "df.duplicated().sum()"
   ]
  },
  {
   "cell_type": "code",
   "execution_count": 6,
   "metadata": {},
   "outputs": [],
   "source": [
    "df.drop_duplicates(inplace=True)"
   ]
  },
  {
   "cell_type": "code",
   "execution_count": 7,
   "metadata": {},
   "outputs": [],
   "source": [
    "df.dropna(inplace=True)"
   ]
  },
  {
   "cell_type": "code",
   "execution_count": 8,
   "metadata": {},
   "outputs": [
    {
     "data": {
      "text/plain": [
       "Index(['age', 'workclass', 'fnlwgt', 'education', 'educational-num',\n",
       "       'marital-status', 'occupation', 'relationship', 'race', 'gender',\n",
       "       'capital-gain', 'capital-loss', 'hours-per-week', 'native-country',\n",
       "       'income_>50K'],\n",
       "      dtype='object')"
      ]
     },
     "execution_count": 8,
     "metadata": {},
     "output_type": "execute_result"
    }
   ],
   "source": [
    "df.columns"
   ]
  },
  {
   "cell_type": "markdown",
   "metadata": {},
   "source": [
    "#### Age; age of the person"
   ]
  },
  {
   "cell_type": "code",
   "execution_count": 9,
   "metadata": {},
   "outputs": [
    {
     "data": {
      "text/plain": [
       "<Axes: xlabel='age', ylabel='Count'>"
      ]
     },
     "execution_count": 9,
     "metadata": {},
     "output_type": "execute_result"
    },
    {
     "data": {
      "image/png": "[encoded data removed]",
      "text/plain": [
       "<Figure size 640x480 with 1 Axes>"
      ]
     },
     "metadata": {},
     "output_type": "display_data"
    }
   ],
   "source": [
    "sns.histplot(x=df.age,kde=True)"
   ]
  },
  {
   "cell_type": "code",
   "execution_count": 10,
   "metadata": {},
   "outputs": [
    {
     "data": {
      "text/plain": [
       "<Axes: xlabel='age', ylabel='Count'>"
      ]
     },
     "execution_count": 10,
     "metadata": {},
     "output_type": "execute_result"
    },
    {
     "data": {
      "image/png": "[encoded data removed]",
      "text/plain": [
       "<Figure size 640x480 with 1 Axes>"
      ]
     },
     "metadata": {},
     "output_type": "display_data"
    }
   ],
   "source": [
    "sns.histplot(x=np.log(df.age),kde=True)"
   ]
  },
  {
   "cell_type": "code",
   "execution_count": 11,
   "metadata": {},
   "outputs": [
    {
     "data": {
      "text/plain": [
       "<Axes: xlabel='age'>"
      ]
     },
     "execution_count": 11,
     "metadata": {},
     "output_type": "execute_result"
    },
    {
     "data": {
      "image/png": "[encoded data removed]",
      "text/plain": [
       "<Figure size 640x480 with 1 Axes>"
      ]
     },
     "metadata": {},
     "output_type": "display_data"
    }
   ],
   "source": [
    "# we can observe that the column has some outliers\n",
    "sns.boxplot(x=df.age)"
   ]
  },
  {
   "cell_type": "markdown",
   "metadata": {},
   "source": [
    "#### Workclass; type of job"
   ]
  },
  {
   "cell_type": "code",
   "execution_count": 12,
   "metadata": {},
   "outputs": [
    {
     "data": {
      "text/plain": [
       "workclass\n",
       "Private             30018\n",
       "Self-emp-not-inc     3403\n",
       "Local-gov            2792\n",
       "State-gov            1721\n",
       "Self-emp-inc         1470\n",
       "Federal-gov          1262\n",
       "Without-pay            20\n",
       "Name: count, dtype: int64"
      ]
     },
     "execution_count": 12,
     "metadata": {},
     "output_type": "execute_result"
    }
   ],
   "source": [
    "df.workclass.value_counts()"
   ]
  },
  {
   "cell_type": "code",
   "execution_count": 13,
   "metadata": {},
   "outputs": [],
   "source": [
    "df = df[df.workclass != 'Without-pay']"
   ]
  },
  {
   "cell_type": "code",
   "execution_count": 14,
   "metadata": {},
   "outputs": [
    {
     "data": {
      "image/png": "[encoded data removed]",
      "text/plain": [
       "<Figure size 1400x600 with 1 Axes>"
      ]
     },
     "metadata": {},
     "output_type": "display_data"
    }
   ],
   "source": [
    "plt.figure(figsize=(14,6))\n",
    "sns.countplot(x=df.workclass)\n",
    "plt.show()"
   ]
  },
  {
   "cell_type": "markdown",
   "metadata": {},
   "source": [
    "#### fnlwgt; final weight> provide an estimate of the number of people in the population that a given survey respondent represents"
   ]
  },
  {
   "cell_type": "code",
   "execution_count": 15,
   "metadata": {},
   "outputs": [
    {
     "data": {
      "text/plain": [
       "<Axes: xlabel='fnlwgt', ylabel='Count'>"
      ]
     },
     "execution_count": 15,
     "metadata": {},
     "output_type": "execute_result"
    },
    {
     "data": {
      "image/png": "[encoded data removed]",
      "text/plain": [
       "<Figure size 640x480 with 1 Axes>"
      ]
     },
     "metadata": {},
     "output_type": "display_data"
    }
   ],
   "source": [
    "sns.histplot(x=df.fnlwgt)"
   ]
  },
  {
   "cell_type": "code",
   "execution_count": 16,
   "metadata": {},
   "outputs": [
    {
     "data": {
      "text/plain": [
       "<Axes: xlabel='fnlwgt', ylabel='Count'>"
      ]
     },
     "execution_count": 16,
     "metadata": {},
     "output_type": "execute_result"
    },
    {
     "data": {
      "image/png": "[encoded data removed]",
      "text/plain": [
       "<Figure size 640x480 with 1 Axes>"
      ]
     },
     "metadata": {},
     "output_type": "display_data"
    }
   ],
   "source": [
    "sns.histplot(x=np.log(df.fnlwgt))"
   ]
  },
  {
   "cell_type": "code",
   "execution_count": 17,
   "metadata": {},
   "outputs": [
    {
     "data": {
      "text/plain": [
       "<Axes: xlabel='fnlwgt'>"
      ]
     },
     "execution_count": 17,
     "metadata": {},
     "output_type": "execute_result"
    },
    {
     "data": {
      "image/png": "[encoded data removed]",
      "text/plain": [
       "<Figure size 640x480 with 1 Axes>"
      ]
     },
     "metadata": {},
     "output_type": "display_data"
    }
   ],
   "source": [
    "# we can see that the data has outliers\n",
    "sns.boxplot(x=df.fnlwgt)"
   ]
  },
  {
   "cell_type": "markdown",
   "metadata": {},
   "source": [
    "#### Education"
   ]
  },
  {
   "cell_type": "code",
   "execution_count": 18,
   "metadata": {},
   "outputs": [
    {
     "data": {
      "text/plain": [
       "education\n",
       "HS-grad         13286\n",
       "Some-college     8894\n",
       "Bachelors        6803\n",
       "Masters          2266\n",
       "Assoc-voc        1739\n",
       "11th             1481\n",
       "Assoc-acdm       1358\n",
       "10th             1098\n",
       "7th-8th           737\n",
       "Prof-school       706\n",
       "9th               615\n",
       "12th              519\n",
       "Doctorate         489\n",
       "5th-6th           411\n",
       "1st-4th           200\n",
       "Preschool          64\n",
       "Name: count, dtype: int64"
      ]
     },
     "execution_count": 18,
     "metadata": {},
     "output_type": "execute_result"
    }
   ],
   "source": [
    "df.education.value_counts()"
   ]
  },
  {
   "cell_type": "markdown",
   "metadata": {},
   "source": [
    "#### Let's shorten the education category"
   ]
  },
  {
   "cell_type": "code",
   "execution_count": 19,
   "metadata": {},
   "outputs": [],
   "source": [
    "def shorten_cat(categories,cuttoff):\n",
    "    map = {}\n",
    "    for i in range(len(categories)):\n",
    "        if categories.values[i] >=cuttoff:\n",
    "            map[categories.index[i]] = categories.index[i]\n",
    "        else:\n",
    "            map[categories.index[i]] = 'Other'\n",
    "    return map"
   ]
  },
  {
   "cell_type": "code",
   "execution_count": 20,
   "metadata": {},
   "outputs": [
    {
     "data": {
      "text/plain": [
       "education\n",
       "HS-grad         13286\n",
       "Some-college     8894\n",
       "Bachelors        6803\n",
       "Masters          2266\n",
       "Assoc-voc        1739\n",
       "11th             1481\n",
       "Assoc-acdm       1358\n",
       "10th             1098\n",
       "Name: count, dtype: int64"
      ]
     },
     "execution_count": 20,
     "metadata": {},
     "output_type": "execute_result"
    }
   ],
   "source": [
    "df['education'] = df['education'].map(shorten_cat(df['education'].value_counts(),1000))\n",
    "df = df[df.education != 'Other']\n",
    "df.education.value_counts()"
   ]
  },
  {
   "cell_type": "markdown",
   "metadata": {},
   "source": [
    "#### Marital status"
   ]
  },
  {
   "cell_type": "code",
   "execution_count": 21,
   "metadata": {},
   "outputs": [
    {
     "data": {
      "text/plain": [
       "marital-status\n",
       "Married-civ-spouse       16894\n",
       "Never-married            12162\n",
       "Divorced                  5310\n",
       "Separated                 1131\n",
       "Widowed                    987\n",
       "Married-spouse-absent      416\n",
       "Married-AF-spouse           25\n",
       "Name: count, dtype: int64"
      ]
     },
     "execution_count": 21,
     "metadata": {},
     "output_type": "execute_result"
    }
   ],
   "source": [
    "df['marital-status'].value_counts()"
   ]
  },
  {
   "cell_type": "code",
   "execution_count": 22,
   "metadata": {},
   "outputs": [
    {
     "data": {
      "text/plain": [
       "<Axes: xlabel='marital-status', ylabel='count'>"
      ]
     },
     "execution_count": 22,
     "metadata": {},
     "output_type": "execute_result"
    },
    {
     "data": {
      "image/png": "[encoded data removed]",
      "text/plain": [
       "<Figure size 640x480 with 1 Axes>"
      ]
     },
     "metadata": {},
     "output_type": "display_data"
    }
   ],
   "source": [
    "df['marital-status'] = df['marital-status'].map(shorten_cat(df['marital-status'].value_counts(),500))\n",
    "df = df[df['marital-status'] != 'Other']\n",
    "sns.countplot(x=df['marital-status'])"
   ]
  },
  {
   "cell_type": "markdown",
   "metadata": {},
   "source": [
    "#### Occupation"
   ]
  },
  {
   "cell_type": "code",
   "execution_count": 23,
   "metadata": {},
   "outputs": [
    {
     "data": {
      "text/plain": [
       "occupation\n",
       "Exec-managerial      5165\n",
       "Craft-repair         4915\n",
       "Adm-clerical         4743\n",
       "Sales                4631\n",
       "Prof-specialty       4332\n",
       "Other-service        3763\n",
       "Machine-op-inspct    2250\n",
       "Transport-moving     1824\n",
       "Handlers-cleaners    1580\n",
       "Tech-support         1260\n",
       "Farming-fishing      1040\n",
       "Name: count, dtype: int64"
      ]
     },
     "execution_count": 23,
     "metadata": {},
     "output_type": "execute_result"
    }
   ],
   "source": [
    "df['occupation'] = df['occupation'].map(shorten_cat(df['occupation'].value_counts(),1000))\n",
    "df = df[df['occupation'] != 'Other']\n",
    "df.occupation.value_counts()"
   ]
  },
  {
   "cell_type": "markdown",
   "metadata": {},
   "source": [
    "#### Relaionship"
   ]
  },
  {
   "cell_type": "code",
   "execution_count": 24,
   "metadata": {},
   "outputs": [
    {
     "data": {
      "text/plain": [
       "relationship\n",
       "Husband           14434\n",
       "Not-in-family      9253\n",
       "Own-child          5414\n",
       "Unmarried          3739\n",
       "Wife               1705\n",
       "Other-relative      958\n",
       "Name: count, dtype: int64"
      ]
     },
     "execution_count": 24,
     "metadata": {},
     "output_type": "execute_result"
    }
   ],
   "source": [
    "df.relationship.value_counts()"
   ]
  },
  {
   "cell_type": "markdown",
   "metadata": {},
   "source": [
    "#### Race"
   ]
  },
  {
   "cell_type": "code",
   "execution_count": 25,
   "metadata": {},
   "outputs": [
    {
     "data": {
      "text/plain": [
       "race\n",
       "White                 30675\n",
       "Black                  3273\n",
       "Asian-Pac-Islander      977\n",
       "Amer-Indian-Eskimo      349\n",
       "Other                   229\n",
       "Name: count, dtype: int64"
      ]
     },
     "execution_count": 25,
     "metadata": {},
     "output_type": "execute_result"
    }
   ],
   "source": [
    "df.race.value_counts()"
   ]
  },
  {
   "cell_type": "markdown",
   "metadata": {},
   "source": [
    "#### Gender"
   ]
  },
  {
   "cell_type": "code",
   "execution_count": 26,
   "metadata": {},
   "outputs": [
    {
     "data": {
      "text/plain": [
       "gender\n",
       "Male      23651\n",
       "Female    11852\n",
       "Name: count, dtype: int64"
      ]
     },
     "execution_count": 26,
     "metadata": {},
     "output_type": "execute_result"
    }
   ],
   "source": [
    "df.gender.value_counts()"
   ]
  },
  {
   "cell_type": "code",
   "execution_count": 27,
   "metadata": {},
   "outputs": [
    {
     "data": {
      "text/plain": [
       "<Axes: xlabel='race', ylabel='count'>"
      ]
     },
     "execution_count": 27,
     "metadata": {},
     "output_type": "execute_result"
    },
    {
     "data": {
      "image/png": "[encoded data removed]",
      "text/plain": [
       "<Figure size 1400x500 with 1 Axes>"
      ]
     },
     "metadata": {},
     "output_type": "display_data"
    }
   ],
   "source": [
    "plt.figure(figsize=(14,5))\n",
    "sns.countplot(x=df.race,hue=df.gender)"
   ]
  },
  {
   "cell_type": "markdown",
   "metadata": {},
   "source": [
    "#### capital gain"
   ]
  },
  {
   "cell_type": "code",
   "execution_count": 28,
   "metadata": {},
   "outputs": [
    {
     "name": "stdout",
     "output_type": "stream",
     "text": [
      "The maximum profit made from selling an asset is: 99999\n",
      "The minimum profit made from selling an asset is: 0\n"
     ]
    }
   ],
   "source": [
    "print(f\"The maximum profit made from selling an asset is: {df['capital-gain'].max()}\")\n",
    "print(f\"The minimum profit made from selling an asset is: {df['capital-gain'].min()}\")"
   ]
  },
  {
   "cell_type": "code",
   "execution_count": 29,
   "metadata": {},
   "outputs": [
    {
     "data": {
      "text/plain": [
       "<Axes: xlabel='capital-gain', ylabel='Count'>"
      ]
     },
     "execution_count": 29,
     "metadata": {},
     "output_type": "execute_result"
    },
    {
     "data": {
      "image/png": "[encoded data removed]",
      "text/plain": [
       "<Figure size 640x480 with 1 Axes>"
      ]
     },
     "metadata": {},
     "output_type": "display_data"
    }
   ],
   "source": [
    "sns.histplot(x=df['capital-gain'])"
   ]
  },
  {
   "cell_type": "code",
   "execution_count": 30,
   "metadata": {},
   "outputs": [
    {
     "data": {
      "text/plain": [
       "<Axes: xlabel='capital-gain'>"
      ]
     },
     "execution_count": 30,
     "metadata": {},
     "output_type": "execute_result"
    },
    {
     "data": {
      "image/png": "[encoded data removed]",
      "text/plain": [
       "<Figure size 640x480 with 1 Axes>"
      ]
     },
     "metadata": {},
     "output_type": "display_data"
    }
   ],
   "source": [
    "sns.boxplot(x=df['capital-gain'])"
   ]
  },
  {
   "cell_type": "code",
   "execution_count": 31,
   "metadata": {},
   "outputs": [],
   "source": [
    "df.drop(['capital-loss', 'fnlwgt','hours-per-week', 'native-country'],axis=1,inplace=True)"
   ]
  },
  {
   "cell_type": "code",
   "execution_count": 32,
   "metadata": {},
   "outputs": [
    {
     "data": {
      "text/plain": [
       "<Axes: xlabel='income_>50K', ylabel='count'>"
      ]
     },
     "execution_count": 32,
     "metadata": {},
     "output_type": "execute_result"
    },
    {
     "data": {
      "image/png": "[encoded data removed]",
      "text/plain": [
       "<Figure size 640x480 with 1 Axes>"
      ]
     },
     "metadata": {},
     "output_type": "display_data"
    }
   ],
   "source": [
    "sns.countplot(x=df['income_>50K'])"
   ]
  },
  {
   "cell_type": "markdown",
   "metadata": {},
   "source": [
    "#### Let's remove outliers"
   ]
  },
  {
   "cell_type": "code",
   "execution_count": 34,
   "metadata": {},
   "outputs": [
    {
     "name": "stdout",
     "output_type": "stream",
     "text": [
      "Shape of data with outliers: (34237, 11)\n",
      "Shape of data without outliers: (33551, 11)\n"
     ]
    }
   ],
   "source": [
    "columns = ['age']\n",
    "print(f\"Shape of data with outliers: {df.shape}\")\n",
    "for col in columns:\n",
    "    upper_bound = df[col].mean() + (2*df[col].std())\n",
    "    lower_bound = df[col].mean() - (2*df[col].std())\n",
    "    df = df[(df[col] < upper_bound) & (df[col] > lower_bound)]\n",
    "    \n",
    "print(f\"Shape of data without outliers: {df.shape}\")"
   ]
  },
  {
   "cell_type": "code",
   "execution_count": 35,
   "metadata": {},
   "outputs": [
    {
     "data": {
      "text/plain": [
       "income_>50K\n",
       "0    25341\n",
       "1     8210\n",
       "Name: count, dtype: int64"
      ]
     },
     "execution_count": 35,
     "metadata": {},
     "output_type": "execute_result"
    }
   ],
   "source": [
    "df['income_>50K'].value_counts()"
   ]
  },
  {
   "cell_type": "markdown",
   "metadata": {},
   "source": [
    "#### Undersampling the data"
   ]
  },
  {
   "cell_type": "code",
   "execution_count": 36,
   "metadata": {},
   "outputs": [
    {
     "name": "stdout",
     "output_type": "stream",
     "text": [
      "(25341, 11)\n",
      "(8210, 11)\n"
     ]
    }
   ],
   "source": [
    "class_count_0,class_count_1 = df['income_>50K'].value_counts()\n",
    "\n",
    "class_0 = df[df['income_>50K'] == 0]\n",
    "class_1 = df[df['income_>50K'] == 1]\n",
    "\n",
    "print(class_0.shape)\n",
    "print(class_1.shape)\n",
    "\n",
    "class_0_under = class_0.sample(class_count_1)\n",
    "\n",
    "df = pd.concat([class_0_under,class_1])"
   ]
  },
  {
   "cell_type": "code",
   "execution_count": 37,
   "metadata": {},
   "outputs": [
    {
     "data": {
      "text/plain": [
       "income_>50K\n",
       "0    8210\n",
       "1    8210\n",
       "Name: count, dtype: int64"
      ]
     },
     "execution_count": 37,
     "metadata": {},
     "output_type": "execute_result"
    }
   ],
   "source": [
    "df['income_>50K'].value_counts()"
   ]
  },
  {
   "cell_type": "code",
   "execution_count": 38,
   "metadata": {},
   "outputs": [
    {
     "data": {
      "text/html": [
       "<div>\n",
       "<style scoped>\n",
       "    .dataframe tbody tr th:only-of-type {\n",
       "        vertical-align: middle;\n",
       "    }\n",
       "\n",
       "    .dataframe tbody tr th {\n",
       "        vertical-align: top;\n",
       "    }\n",
       "\n",
       "    .dataframe thead th {\n",
       "        text-align: right;\n",
       "    }\n",
       "</style>\n",
       "<table border=\"1\" class=\"dataframe\">\n",
       "  <thead>\n",
       "    <tr style=\"text-align: right;\">\n",
       "      <th></th>\n",
       "      <th>age</th>\n",
       "      <th>workclass</th>\n",
       "      <th>education</th>\n",
       "      <th>marital-status</th>\n",
       "      <th>occupation</th>\n",
       "      <th>relationship</th>\n",
       "      <th>race</th>\n",
       "      <th>gender</th>\n",
       "      <th>income_&gt;50K</th>\n",
       "    </tr>\n",
       "  </thead>\n",
       "  <tbody>\n",
       "    <tr>\n",
       "      <th>0</th>\n",
       "      <td>32</td>\n",
       "      <td>Private</td>\n",
       "      <td>Masters</td>\n",
       "      <td>Married-civ-spouse</td>\n",
       "      <td>Exec-managerial</td>\n",
       "      <td>Husband</td>\n",
       "      <td>White</td>\n",
       "      <td>Male</td>\n",
       "      <td>1</td>\n",
       "    </tr>\n",
       "    <tr>\n",
       "      <th>1</th>\n",
       "      <td>38</td>\n",
       "      <td>Private</td>\n",
       "      <td>11th</td>\n",
       "      <td>Married-civ-spouse</td>\n",
       "      <td>Sales</td>\n",
       "      <td>Husband</td>\n",
       "      <td>White</td>\n",
       "      <td>Male</td>\n",
       "      <td>0</td>\n",
       "    </tr>\n",
       "    <tr>\n",
       "      <th>2</th>\n",
       "      <td>50</td>\n",
       "      <td>Private</td>\n",
       "      <td>Masters</td>\n",
       "      <td>Married-civ-spouse</td>\n",
       "      <td>Sales</td>\n",
       "      <td>Husband</td>\n",
       "      <td>White</td>\n",
       "      <td>Male</td>\n",
       "      <td>1</td>\n",
       "    </tr>\n",
       "    <tr>\n",
       "      <th>3</th>\n",
       "      <td>45</td>\n",
       "      <td>Private</td>\n",
       "      <td>Bachelors</td>\n",
       "      <td>Married-civ-spouse</td>\n",
       "      <td>Craft-repair</td>\n",
       "      <td>Husband</td>\n",
       "      <td>White</td>\n",
       "      <td>Male</td>\n",
       "      <td>1</td>\n",
       "    </tr>\n",
       "    <tr>\n",
       "      <th>4</th>\n",
       "      <td>24</td>\n",
       "      <td>Private</td>\n",
       "      <td>Bachelors</td>\n",
       "      <td>Never-married</td>\n",
       "      <td>Adm-clerical</td>\n",
       "      <td>Not-in-family</td>\n",
       "      <td>White</td>\n",
       "      <td>Female</td>\n",
       "      <td>0</td>\n",
       "    </tr>\n",
       "  </tbody>\n",
       "</table>\n",
       "</div>"
      ],
      "text/plain": [
       "   age workclass  education      marital-status       occupation  \\\n",
       "0   32   Private    Masters  Married-civ-spouse  Exec-managerial   \n",
       "1   38   Private       11th  Married-civ-spouse            Sales   \n",
       "2   50   Private    Masters  Married-civ-spouse            Sales   \n",
       "3   45   Private  Bachelors  Married-civ-spouse     Craft-repair   \n",
       "4   24   Private  Bachelors       Never-married     Adm-clerical   \n",
       "\n",
       "    relationship   race  gender  income_>50K  \n",
       "0        Husband  White    Male            1  \n",
       "1        Husband  White    Male            0  \n",
       "2        Husband  White    Male            1  \n",
       "3        Husband  White    Male            1  \n",
       "4  Not-in-family  White  Female            0  "
      ]
     },
     "execution_count": 38,
     "metadata": {},
     "output_type": "execute_result"
    }
   ],
   "source": [
    "df.drop(['capital-gain','educational-num'],axis=1,inplace=True)\n",
    "df = df.sample(frac=1).reset_index(drop=True)\n",
    "df.head()"
   ]
  },
  {
   "cell_type": "code",
   "execution_count": 39,
   "metadata": {},
   "outputs": [],
   "source": [
    "df.gender = df.gender.map({'Male':1,'Female':0})"
   ]
  },
  {
   "cell_type": "code",
   "execution_count": 40,
   "metadata": {},
   "outputs": [],
   "source": [
    "from sklearn.preprocessing import StandardScaler,OneHotEncoder,LabelEncoder\n",
    "from sklearn.model_selection import train_test_split\n",
    "from sklearn.pipeline import Pipeline\n",
    "from sklearn.compose import ColumnTransformer\n",
    "from sklearn.linear_model import LogisticRegression\n",
    "from sklearn.tree import DecisionTreeClassifier\n",
    "from sklearn.ensemble import RandomForestClassifier\n",
    "from xgboost import XGBClassifier\n",
    "from catboost import CatBoostClassifier\n",
    "from sklearn.neighbors import KNeighborsClassifier\n",
    "from sklearn.svm import SVC\n",
    "from sklearn.metrics import accuracy_score"
   ]
  },
  {
   "cell_type": "code",
   "execution_count": 41,
   "metadata": {},
   "outputs": [],
   "source": [
    "from sklearn.preprocessing import MinMaxScaler\n",
    "scaler = MinMaxScaler()\n",
    "encoder = OneHotEncoder()\n",
    "cols = ['workclass','education', 'marital-status', 'occupation', 'relationship', 'race']\n",
    "scale_cols = ['age']\n",
    "enc_pipe = Pipeline(steps=[\n",
    "    ('encoder',OneHotEncoder())\n",
    "])\n",
    "sc_pipe = Pipeline(steps=[\n",
    "    ('scaler',MinMaxScaler())\n",
    "])\n",
    "\n",
    "preprocessor = ColumnTransformer([\n",
    "    ('enc_pipe',enc_pipe,cols),\n",
    "    ('sc_pipe',sc_pipe,scale_cols)\n",
    "])"
   ]
  },
  {
   "cell_type": "code",
   "execution_count": 42,
   "metadata": {},
   "outputs": [],
   "source": [
    "X = df.drop('income_>50K',axis=1)\n",
    "y = df['income_>50K']\n",
    "X_train, X_test, y_train, y_test = train_test_split(X, y, test_size=0.25, random_state=42)\n",
    "\n",
    "X_train = preprocessor.fit_transform(X_train)\n",
    "X_test = preprocessor.transform(X_test)"
   ]
  },
  {
   "cell_type": "code",
   "execution_count": 43,
   "metadata": {},
   "outputs": [],
   "source": [
    "models = {\n",
    "    'Logistic Regression':LogisticRegression(),\n",
    "    'SVC':SVC(),\n",
    "    'KNeighbours':KNeighborsClassifier(),\n",
    "    'Cat Boost':CatBoostClassifier(),\n",
    "    'XGB':XGBClassifier(),\n",
    "    'Decision Tree':DecisionTreeClassifier(),\n",
    "    'Random Forest':RandomForestClassifier(),  \n",
    "}"
   ]
  },
  {
   "cell_type": "code",
   "execution_count": 44,
   "metadata": {},
   "outputs": [
    {
     "name": "stdout",
     "output_type": "stream",
     "text": [
      "Learning rate set to 0.030099\n",
      "0:\tlearn: 0.6752703\ttotal: 3.09s\tremaining: 51m 25s\n",
      "1:\tlearn: 0.6582922\ttotal: 3.1s\tremaining: 25m 45s\n",
      "2:\tlearn: 0.6424220\ttotal: 3.11s\tremaining: 17m 12s\n",
      "3:\tlearn: 0.6293361\ttotal: 3.11s\tremaining: 12m 55s\n",
      "4:\tlearn: 0.6168613\ttotal: 3.12s\tremaining: 10m 21s\n",
      "5:\tlearn: 0.6045808\ttotal: 3.13s\tremaining: 8m 38s\n",
      "6:\tlearn: 0.5926652\ttotal: 3.14s\tremaining: 7m 25s\n",
      "7:\tlearn: 0.5831394\ttotal: 3.15s\tremaining: 6m 30s\n",
      "8:\tlearn: 0.5727086\ttotal: 3.16s\tremaining: 5m 47s\n",
      "9:\tlearn: 0.5637268\ttotal: 3.17s\tremaining: 5m 13s\n",
      "10:\tlearn: 0.5554280\ttotal: 3.18s\tremaining: 4m 45s\n",
      "11:\tlearn: 0.5491753\ttotal: 3.18s\tremaining: 4m 22s\n",
      "12:\tlearn: 0.5435845\ttotal: 3.19s\tremaining: 4m 2s\n",
      "13:\tlearn: 0.5371784\ttotal: 3.2s\tremaining: 3m 45s\n",
      "14:\tlearn: 0.5318106\ttotal: 3.21s\tremaining: 3m 30s\n",
      "15:\tlearn: 0.5261041\ttotal: 3.22s\tremaining: 3m 18s\n",
      "16:\tlearn: 0.5203839\ttotal: 3.23s\tremaining: 3m 6s\n",
      "17:\tlearn: 0.5153374\ttotal: 3.24s\tremaining: 2m 56s\n",
      "18:\tlearn: 0.5107764\ttotal: 3.25s\tremaining: 2m 47s\n",
      "19:\tlearn: 0.5067961\ttotal: 3.25s\tremaining: 2m 39s\n",
      "20:\tlearn: 0.5037776\ttotal: 3.26s\tremaining: 2m 32s\n",
      "21:\tlearn: 0.4998167\ttotal: 3.27s\tremaining: 2m 25s\n",
      "22:\tlearn: 0.4960988\ttotal: 3.28s\tremaining: 2m 19s\n",
      "23:\tlearn: 0.4921152\ttotal: 3.29s\tremaining: 2m 13s\n",
      "24:\tlearn: 0.4889430\ttotal: 3.3s\tremaining: 2m 8s\n",
      "25:\tlearn: 0.4858362\ttotal: 3.31s\tremaining: 2m 4s\n",
      "26:\tlearn: 0.4827275\ttotal: 3.32s\tremaining: 1m 59s\n",
      "27:\tlearn: 0.4800282\ttotal: 3.33s\tremaining: 1m 55s\n",
      "28:\tlearn: 0.4776096\ttotal: 3.34s\tremaining: 1m 51s\n",
      "29:\tlearn: 0.4758084\ttotal: 3.35s\tremaining: 1m 48s\n",
      "30:\tlearn: 0.4739323\ttotal: 3.35s\tremaining: 1m 44s\n",
      "31:\tlearn: 0.4719630\ttotal: 3.37s\tremaining: 1m 41s\n",
      "32:\tlearn: 0.4697698\ttotal: 3.38s\tremaining: 1m 39s\n",
      "33:\tlearn: 0.4676004\ttotal: 3.39s\tremaining: 1m 36s\n",
      "34:\tlearn: 0.4657528\ttotal: 3.4s\tremaining: 1m 33s\n",
      "35:\tlearn: 0.4638678\ttotal: 3.41s\tremaining: 1m 31s\n",
      "36:\tlearn: 0.4623763\ttotal: 3.42s\tremaining: 1m 28s\n",
      "37:\tlearn: 0.4608859\ttotal: 3.43s\tremaining: 1m 26s\n",
      "38:\tlearn: 0.4593624\ttotal: 3.44s\tremaining: 1m 24s\n",
      "39:\tlearn: 0.4579897\ttotal: 3.45s\tremaining: 1m 22s\n",
      "40:\tlearn: 0.4567046\ttotal: 3.46s\tremaining: 1m 20s\n",
      "41:\tlearn: 0.4552297\ttotal: 3.47s\tremaining: 1m 19s\n",
      "42:\tlearn: 0.4538421\ttotal: 3.48s\tremaining: 1m 17s\n",
      "43:\tlearn: 0.4523135\ttotal: 3.49s\tremaining: 1m 15s\n",
      "44:\tlearn: 0.4509879\ttotal: 3.5s\tremaining: 1m 14s\n",
      "45:\tlearn: 0.4500165\ttotal: 3.52s\tremaining: 1m 12s\n",
      "46:\tlearn: 0.4490295\ttotal: 3.53s\tremaining: 1m 11s\n",
      "47:\tlearn: 0.4479517\ttotal: 3.54s\tremaining: 1m 10s\n",
      "48:\tlearn: 0.4470603\ttotal: 3.54s\tremaining: 1m 8s\n",
      "49:\tlearn: 0.4461894\ttotal: 3.55s\tremaining: 1m 7s\n",
      "50:\tlearn: 0.4453935\ttotal: 3.56s\tremaining: 1m 6s\n",
      "51:\tlearn: 0.4446850\ttotal: 3.57s\tremaining: 1m 5s\n",
      "52:\tlearn: 0.4436788\ttotal: 3.58s\tremaining: 1m 3s\n",
      "53:\tlearn: 0.4430079\ttotal: 3.59s\tremaining: 1m 2s\n",
      "54:\tlearn: 0.4423642\ttotal: 3.59s\tremaining: 1m 1s\n",
      "55:\tlearn: 0.4416365\ttotal: 3.6s\tremaining: 1m\n",
      "56:\tlearn: 0.4409564\ttotal: 3.61s\tremaining: 59.8s\n",
      "57:\tlearn: 0.4403005\ttotal: 3.62s\tremaining: 58.8s\n",
      "58:\tlearn: 0.4395964\ttotal: 3.63s\tremaining: 57.9s\n",
      "59:\tlearn: 0.4391288\ttotal: 3.64s\tremaining: 57s\n",
      "60:\tlearn: 0.4384891\ttotal: 3.65s\tremaining: 56.2s\n",
      "61:\tlearn: 0.4379755\ttotal: 3.66s\tremaining: 55.3s\n",
      "62:\tlearn: 0.4374850\ttotal: 3.67s\tremaining: 54.5s\n",
      "63:\tlearn: 0.4370155\ttotal: 3.67s\tremaining: 53.8s\n",
      "64:\tlearn: 0.4365436\ttotal: 3.69s\tremaining: 53s\n",
      "65:\tlearn: 0.4359085\ttotal: 3.7s\tremaining: 52.3s\n",
      "66:\tlearn: 0.4354428\ttotal: 3.71s\tremaining: 51.7s\n",
      "67:\tlearn: 0.4348906\ttotal: 3.72s\tremaining: 51s\n",
      "68:\tlearn: 0.4343924\ttotal: 3.73s\tremaining: 50.3s\n",
      "69:\tlearn: 0.4340398\ttotal: 3.74s\tremaining: 49.7s\n",
      "70:\tlearn: 0.4336796\ttotal: 3.75s\tremaining: 49.1s\n",
      "71:\tlearn: 0.4332006\ttotal: 3.76s\tremaining: 48.5s\n",
      "72:\tlearn: 0.4327505\ttotal: 3.77s\tremaining: 47.9s\n",
      "73:\tlearn: 0.4323447\ttotal: 3.78s\tremaining: 47.3s\n",
      "74:\tlearn: 0.4320554\ttotal: 3.79s\tremaining: 46.7s\n",
      "75:\tlearn: 0.4316352\ttotal: 3.79s\tremaining: 46.1s\n",
      "76:\tlearn: 0.4312616\ttotal: 3.8s\tremaining: 45.6s\n",
      "77:\tlearn: 0.4309163\ttotal: 3.81s\tremaining: 45.1s\n",
      "78:\tlearn: 0.4305620\ttotal: 3.82s\tremaining: 44.6s\n",
      "79:\tlearn: 0.4304667\ttotal: 3.83s\tremaining: 44s\n",
      "80:\tlearn: 0.4301385\ttotal: 3.84s\tremaining: 43.5s\n",
      "81:\tlearn: 0.4298221\ttotal: 3.84s\tremaining: 43s\n",
      "82:\tlearn: 0.4294625\ttotal: 3.85s\tremaining: 42.6s\n",
      "83:\tlearn: 0.4291507\ttotal: 3.86s\tremaining: 42.1s\n",
      "84:\tlearn: 0.4288391\ttotal: 3.87s\tremaining: 41.7s\n",
      "85:\tlearn: 0.4286065\ttotal: 3.88s\tremaining: 41.3s\n",
      "86:\tlearn: 0.4282914\ttotal: 3.89s\tremaining: 40.8s\n",
      "87:\tlearn: 0.4280957\ttotal: 3.9s\tremaining: 40.4s\n",
      "88:\tlearn: 0.4278448\ttotal: 3.91s\tremaining: 40s\n",
      "89:\tlearn: 0.4275810\ttotal: 3.92s\tremaining: 39.6s\n",
      "90:\tlearn: 0.4273449\ttotal: 3.92s\tremaining: 39.2s\n",
      "91:\tlearn: 0.4270954\ttotal: 3.93s\tremaining: 38.8s\n",
      "92:\tlearn: 0.4268389\ttotal: 3.94s\tremaining: 38.4s\n",
      "93:\tlearn: 0.4264925\ttotal: 3.95s\tremaining: 38.1s\n",
      "94:\tlearn: 0.4263001\ttotal: 3.96s\tremaining: 37.7s\n",
      "95:\tlearn: 0.4260457\ttotal: 3.97s\tremaining: 37.4s\n",
      "96:\tlearn: 0.4258954\ttotal: 3.98s\tremaining: 37.1s\n",
      "97:\tlearn: 0.4256384\ttotal: 3.99s\tremaining: 36.7s\n",
      "98:\tlearn: 0.4253854\ttotal: 4s\tremaining: 36.4s\n",
      "99:\tlearn: 0.4251863\ttotal: 4.01s\tremaining: 36.1s\n",
      "100:\tlearn: 0.4249444\ttotal: 4.02s\tremaining: 35.8s\n",
      "101:\tlearn: 0.4247580\ttotal: 4.03s\tremaining: 35.5s\n",
      "102:\tlearn: 0.4245577\ttotal: 4.04s\tremaining: 35.2s\n",
      "103:\tlearn: 0.4243102\ttotal: 4.05s\tremaining: 34.9s\n",
      "104:\tlearn: 0.4240935\ttotal: 4.06s\tremaining: 34.6s\n",
      "105:\tlearn: 0.4238681\ttotal: 4.07s\tremaining: 34.3s\n",
      "106:\tlearn: 0.4236326\ttotal: 4.08s\tremaining: 34s\n",
      "107:\tlearn: 0.4234810\ttotal: 4.08s\tremaining: 33.7s\n",
      "108:\tlearn: 0.4232819\ttotal: 4.09s\tremaining: 33.5s\n",
      "109:\tlearn: 0.4231427\ttotal: 4.11s\tremaining: 33.2s\n",
      "110:\tlearn: 0.4228779\ttotal: 4.12s\tremaining: 33s\n",
      "111:\tlearn: 0.4226978\ttotal: 4.13s\tremaining: 32.7s\n",
      "112:\tlearn: 0.4225028\ttotal: 4.14s\tremaining: 32.5s\n",
      "113:\tlearn: 0.4223209\ttotal: 4.15s\tremaining: 32.2s\n",
      "114:\tlearn: 0.4221890\ttotal: 4.16s\tremaining: 32s\n",
      "115:\tlearn: 0.4220262\ttotal: 4.17s\tremaining: 31.8s\n",
      "116:\tlearn: 0.4218060\ttotal: 4.17s\tremaining: 31.5s\n",
      "117:\tlearn: 0.4216247\ttotal: 4.18s\tremaining: 31.3s\n",
      "118:\tlearn: 0.4214690\ttotal: 4.19s\tremaining: 31s\n",
      "119:\tlearn: 0.4213059\ttotal: 4.2s\tremaining: 30.8s\n",
      "120:\tlearn: 0.4210782\ttotal: 4.21s\tremaining: 30.6s\n",
      "121:\tlearn: 0.4209528\ttotal: 4.22s\tremaining: 30.4s\n",
      "122:\tlearn: 0.4207961\ttotal: 4.23s\tremaining: 30.1s\n",
      "123:\tlearn: 0.4206177\ttotal: 4.24s\tremaining: 29.9s\n",
      "124:\tlearn: 0.4204553\ttotal: 4.24s\tremaining: 29.7s\n",
      "125:\tlearn: 0.4202302\ttotal: 4.25s\tremaining: 29.5s\n",
      "126:\tlearn: 0.4200779\ttotal: 4.26s\tremaining: 29.3s\n",
      "127:\tlearn: 0.4199236\ttotal: 4.27s\tremaining: 29.1s\n",
      "128:\tlearn: 0.4197190\ttotal: 4.28s\tremaining: 28.9s\n",
      "129:\tlearn: 0.4195655\ttotal: 4.29s\tremaining: 28.7s\n",
      "130:\tlearn: 0.4193108\ttotal: 4.3s\tremaining: 28.5s\n",
      "131:\tlearn: 0.4191512\ttotal: 4.3s\tremaining: 28.3s\n",
      "132:\tlearn: 0.4189878\ttotal: 4.32s\tremaining: 28.1s\n",
      "133:\tlearn: 0.4188375\ttotal: 4.33s\tremaining: 28s\n",
      "134:\tlearn: 0.4186835\ttotal: 4.34s\tremaining: 27.8s\n",
      "135:\tlearn: 0.4185508\ttotal: 4.35s\tremaining: 27.7s\n",
      "136:\tlearn: 0.4183990\ttotal: 4.36s\tremaining: 27.5s\n",
      "137:\tlearn: 0.4182463\ttotal: 4.37s\tremaining: 27.3s\n",
      "138:\tlearn: 0.4181031\ttotal: 4.38s\tremaining: 27.1s\n",
      "139:\tlearn: 0.4179269\ttotal: 4.39s\tremaining: 27s\n",
      "140:\tlearn: 0.4177280\ttotal: 4.4s\tremaining: 26.8s\n",
      "141:\tlearn: 0.4175633\ttotal: 4.41s\tremaining: 26.6s\n",
      "142:\tlearn: 0.4174250\ttotal: 4.42s\tremaining: 26.5s\n",
      "143:\tlearn: 0.4171739\ttotal: 4.42s\tremaining: 26.3s\n",
      "144:\tlearn: 0.4170772\ttotal: 4.43s\tremaining: 26.1s\n",
      "145:\tlearn: 0.4169489\ttotal: 4.44s\tremaining: 26s\n",
      "146:\tlearn: 0.4168482\ttotal: 4.45s\tremaining: 25.8s\n",
      "147:\tlearn: 0.4166953\ttotal: 4.46s\tremaining: 25.7s\n",
      "148:\tlearn: 0.4165621\ttotal: 4.47s\tremaining: 25.5s\n",
      "149:\tlearn: 0.4164615\ttotal: 4.48s\tremaining: 25.4s\n",
      "150:\tlearn: 0.4163663\ttotal: 4.48s\tremaining: 25.2s\n",
      "151:\tlearn: 0.4162670\ttotal: 4.49s\tremaining: 25.1s\n",
      "152:\tlearn: 0.4161591\ttotal: 4.5s\tremaining: 24.9s\n",
      "153:\tlearn: 0.4160773\ttotal: 4.51s\tremaining: 24.8s\n",
      "154:\tlearn: 0.4159458\ttotal: 4.52s\tremaining: 24.6s\n",
      "155:\tlearn: 0.4157877\ttotal: 4.53s\tremaining: 24.5s\n",
      "156:\tlearn: 0.4155904\ttotal: 4.55s\tremaining: 24.4s\n",
      "157:\tlearn: 0.4154883\ttotal: 4.56s\tremaining: 24.3s\n",
      "158:\tlearn: 0.4153626\ttotal: 4.57s\tremaining: 24.2s\n",
      "159:\tlearn: 0.4151939\ttotal: 4.58s\tremaining: 24s\n",
      "160:\tlearn: 0.4150384\ttotal: 4.58s\tremaining: 23.9s\n",
      "161:\tlearn: 0.4149080\ttotal: 4.59s\tremaining: 23.8s\n",
      "162:\tlearn: 0.4147781\ttotal: 4.6s\tremaining: 23.6s\n",
      "163:\tlearn: 0.4146826\ttotal: 4.61s\tremaining: 23.5s\n",
      "164:\tlearn: 0.4145425\ttotal: 4.62s\tremaining: 23.4s\n",
      "165:\tlearn: 0.4144323\ttotal: 4.63s\tremaining: 23.3s\n",
      "166:\tlearn: 0.4143605\ttotal: 4.64s\tremaining: 23.1s\n",
      "167:\tlearn: 0.4142888\ttotal: 4.65s\tremaining: 23s\n",
      "168:\tlearn: 0.4141746\ttotal: 4.66s\tremaining: 22.9s\n",
      "169:\tlearn: 0.4140474\ttotal: 4.66s\tremaining: 22.8s\n",
      "170:\tlearn: 0.4139200\ttotal: 4.67s\tremaining: 22.7s\n",
      "171:\tlearn: 0.4138287\ttotal: 4.68s\tremaining: 22.5s\n",
      "172:\tlearn: 0.4137118\ttotal: 4.69s\tremaining: 22.4s\n",
      "173:\tlearn: 0.4135978\ttotal: 4.7s\tremaining: 22.3s\n",
      "174:\tlearn: 0.4135054\ttotal: 4.71s\tremaining: 22.2s\n",
      "175:\tlearn: 0.4134164\ttotal: 4.71s\tremaining: 22.1s\n",
      "176:\tlearn: 0.4133078\ttotal: 4.72s\tremaining: 22s\n",
      "177:\tlearn: 0.4132005\ttotal: 4.73s\tremaining: 21.9s\n",
      "178:\tlearn: 0.4130947\ttotal: 4.75s\tremaining: 21.8s\n",
      "179:\tlearn: 0.4129940\ttotal: 4.76s\tremaining: 21.7s\n",
      "180:\tlearn: 0.4129206\ttotal: 4.77s\tremaining: 21.6s\n",
      "181:\tlearn: 0.4128062\ttotal: 4.78s\tremaining: 21.5s\n",
      "182:\tlearn: 0.4126718\ttotal: 4.79s\tremaining: 21.4s\n",
      "183:\tlearn: 0.4125650\ttotal: 4.79s\tremaining: 21.3s\n",
      "184:\tlearn: 0.4124781\ttotal: 4.8s\tremaining: 21.2s\n",
      "185:\tlearn: 0.4123368\ttotal: 4.81s\tremaining: 21.1s\n",
      "186:\tlearn: 0.4122689\ttotal: 4.82s\tremaining: 21s\n",
      "187:\tlearn: 0.4121204\ttotal: 4.83s\tremaining: 20.9s\n",
      "188:\tlearn: 0.4120261\ttotal: 4.84s\tremaining: 20.8s\n",
      "189:\tlearn: 0.4119433\ttotal: 4.85s\tremaining: 20.7s\n",
      "190:\tlearn: 0.4118568\ttotal: 4.85s\tremaining: 20.6s\n",
      "191:\tlearn: 0.4117726\ttotal: 4.86s\tremaining: 20.5s\n",
      "192:\tlearn: 0.4116999\ttotal: 4.87s\tremaining: 20.4s\n",
      "193:\tlearn: 0.4115900\ttotal: 4.88s\tremaining: 20.3s\n",
      "194:\tlearn: 0.4115486\ttotal: 4.89s\tremaining: 20.2s\n",
      "195:\tlearn: 0.4114794\ttotal: 4.89s\tremaining: 20.1s\n",
      "196:\tlearn: 0.4114053\ttotal: 4.9s\tremaining: 20s\n",
      "197:\tlearn: 0.4112359\ttotal: 4.91s\tremaining: 19.9s\n",
      "198:\tlearn: 0.4111309\ttotal: 4.92s\tremaining: 19.8s\n",
      "199:\tlearn: 0.4110393\ttotal: 4.93s\tremaining: 19.7s\n",
      "200:\tlearn: 0.4108993\ttotal: 4.94s\tremaining: 19.6s\n",
      "201:\tlearn: 0.4107916\ttotal: 4.95s\tremaining: 19.6s\n",
      "202:\tlearn: 0.4107114\ttotal: 4.96s\tremaining: 19.5s\n",
      "203:\tlearn: 0.4106385\ttotal: 4.98s\tremaining: 19.4s\n",
      "204:\tlearn: 0.4105341\ttotal: 4.98s\tremaining: 19.3s\n",
      "205:\tlearn: 0.4104391\ttotal: 4.99s\tremaining: 19.2s\n",
      "206:\tlearn: 0.4103182\ttotal: 5s\tremaining: 19.2s\n",
      "207:\tlearn: 0.4102027\ttotal: 5.01s\tremaining: 19.1s\n",
      "208:\tlearn: 0.4101065\ttotal: 5.02s\tremaining: 19s\n",
      "209:\tlearn: 0.4099632\ttotal: 5.03s\tremaining: 18.9s\n",
      "210:\tlearn: 0.4098592\ttotal: 5.04s\tremaining: 18.8s\n",
      "211:\tlearn: 0.4097871\ttotal: 5.05s\tremaining: 18.8s\n",
      "212:\tlearn: 0.4096817\ttotal: 5.05s\tremaining: 18.7s\n",
      "213:\tlearn: 0.4096031\ttotal: 5.06s\tremaining: 18.6s\n",
      "214:\tlearn: 0.4094742\ttotal: 5.07s\tremaining: 18.5s\n",
      "215:\tlearn: 0.4094082\ttotal: 5.08s\tremaining: 18.4s\n",
      "216:\tlearn: 0.4093460\ttotal: 5.09s\tremaining: 18.4s\n",
      "217:\tlearn: 0.4092678\ttotal: 5.09s\tremaining: 18.3s\n",
      "218:\tlearn: 0.4091947\ttotal: 5.1s\tremaining: 18.2s\n",
      "219:\tlearn: 0.4091028\ttotal: 5.11s\tremaining: 18.1s\n",
      "220:\tlearn: 0.4090243\ttotal: 5.12s\tremaining: 18s\n",
      "221:\tlearn: 0.4089476\ttotal: 5.13s\tremaining: 18s\n",
      "222:\tlearn: 0.4088643\ttotal: 5.14s\tremaining: 17.9s\n",
      "223:\tlearn: 0.4087664\ttotal: 5.15s\tremaining: 17.8s\n",
      "224:\tlearn: 0.4086390\ttotal: 5.16s\tremaining: 17.8s\n",
      "225:\tlearn: 0.4085648\ttotal: 5.17s\tremaining: 17.7s\n",
      "226:\tlearn: 0.4085077\ttotal: 5.18s\tremaining: 17.6s\n",
      "227:\tlearn: 0.4084363\ttotal: 5.19s\tremaining: 17.6s\n",
      "228:\tlearn: 0.4083473\ttotal: 5.2s\tremaining: 17.5s\n",
      "229:\tlearn: 0.4082737\ttotal: 5.21s\tremaining: 17.4s\n",
      "230:\tlearn: 0.4081662\ttotal: 5.22s\tremaining: 17.4s\n",
      "231:\tlearn: 0.4080600\ttotal: 5.22s\tremaining: 17.3s\n",
      "232:\tlearn: 0.4079562\ttotal: 5.24s\tremaining: 17.2s\n",
      "233:\tlearn: 0.4078816\ttotal: 5.24s\tremaining: 17.2s\n",
      "234:\tlearn: 0.4077394\ttotal: 5.25s\tremaining: 17.1s\n",
      "235:\tlearn: 0.4076776\ttotal: 5.26s\tremaining: 17s\n",
      "236:\tlearn: 0.4075669\ttotal: 5.27s\tremaining: 17s\n",
      "237:\tlearn: 0.4074562\ttotal: 5.28s\tremaining: 16.9s\n",
      "238:\tlearn: 0.4073936\ttotal: 5.29s\tremaining: 16.8s\n",
      "239:\tlearn: 0.4072852\ttotal: 5.29s\tremaining: 16.8s\n",
      "240:\tlearn: 0.4072224\ttotal: 5.3s\tremaining: 16.7s\n",
      "241:\tlearn: 0.4071465\ttotal: 5.31s\tremaining: 16.6s\n",
      "242:\tlearn: 0.4070190\ttotal: 5.32s\tremaining: 16.6s\n",
      "243:\tlearn: 0.4069348\ttotal: 5.33s\tremaining: 16.5s\n",
      "244:\tlearn: 0.4068693\ttotal: 5.34s\tremaining: 16.5s\n",
      "245:\tlearn: 0.4067757\ttotal: 5.35s\tremaining: 16.4s\n",
      "246:\tlearn: 0.4067327\ttotal: 5.37s\tremaining: 16.4s\n",
      "247:\tlearn: 0.4066506\ttotal: 5.38s\tremaining: 16.3s\n",
      "248:\tlearn: 0.4065278\ttotal: 5.39s\tremaining: 16.2s\n",
      "249:\tlearn: 0.4064408\ttotal: 5.39s\tremaining: 16.2s\n",
      "250:\tlearn: 0.4063618\ttotal: 5.4s\tremaining: 16.1s\n",
      "251:\tlearn: 0.4062819\ttotal: 5.41s\tremaining: 16.1s\n",
      "252:\tlearn: 0.4061533\ttotal: 5.42s\tremaining: 16s\n",
      "253:\tlearn: 0.4060192\ttotal: 5.43s\tremaining: 16s\n",
      "254:\tlearn: 0.4058899\ttotal: 5.44s\tremaining: 15.9s\n",
      "255:\tlearn: 0.4058255\ttotal: 5.45s\tremaining: 15.8s\n",
      "256:\tlearn: 0.4057620\ttotal: 5.46s\tremaining: 15.8s\n",
      "257:\tlearn: 0.4056625\ttotal: 5.47s\tremaining: 15.7s\n",
      "258:\tlearn: 0.4055991\ttotal: 5.47s\tremaining: 15.7s\n",
      "259:\tlearn: 0.4055578\ttotal: 5.48s\tremaining: 15.6s\n",
      "260:\tlearn: 0.4054752\ttotal: 5.49s\tremaining: 15.6s\n",
      "261:\tlearn: 0.4053373\ttotal: 5.5s\tremaining: 15.5s\n",
      "262:\tlearn: 0.4052485\ttotal: 5.51s\tremaining: 15.4s\n",
      "263:\tlearn: 0.4051774\ttotal: 5.52s\tremaining: 15.4s\n",
      "264:\tlearn: 0.4051174\ttotal: 5.53s\tremaining: 15.3s\n",
      "265:\tlearn: 0.4050251\ttotal: 5.54s\tremaining: 15.3s\n",
      "266:\tlearn: 0.4049351\ttotal: 5.55s\tremaining: 15.2s\n",
      "267:\tlearn: 0.4048767\ttotal: 5.56s\tremaining: 15.2s\n",
      "268:\tlearn: 0.4048349\ttotal: 5.57s\tremaining: 15.1s\n",
      "269:\tlearn: 0.4047677\ttotal: 5.58s\tremaining: 15.1s\n",
      "270:\tlearn: 0.4046552\ttotal: 5.59s\tremaining: 15s\n",
      "271:\tlearn: 0.4046530\ttotal: 5.6s\tremaining: 15s\n",
      "272:\tlearn: 0.4046020\ttotal: 5.61s\tremaining: 14.9s\n",
      "273:\tlearn: 0.4045555\ttotal: 5.62s\tremaining: 14.9s\n",
      "274:\tlearn: 0.4044443\ttotal: 5.63s\tremaining: 14.8s\n",
      "275:\tlearn: 0.4043589\ttotal: 5.63s\tremaining: 14.8s\n",
      "276:\tlearn: 0.4042734\ttotal: 5.64s\tremaining: 14.7s\n",
      "277:\tlearn: 0.4041944\ttotal: 5.65s\tremaining: 14.7s\n",
      "278:\tlearn: 0.4040978\ttotal: 5.66s\tremaining: 14.6s\n",
      "279:\tlearn: 0.4040010\ttotal: 5.67s\tremaining: 14.6s\n",
      "280:\tlearn: 0.4039310\ttotal: 5.68s\tremaining: 14.5s\n",
      "281:\tlearn: 0.4038511\ttotal: 5.69s\tremaining: 14.5s\n",
      "282:\tlearn: 0.4038086\ttotal: 5.7s\tremaining: 14.4s\n",
      "283:\tlearn: 0.4037185\ttotal: 5.71s\tremaining: 14.4s\n",
      "284:\tlearn: 0.4037153\ttotal: 5.71s\tremaining: 14.3s\n",
      "285:\tlearn: 0.4036618\ttotal: 5.72s\tremaining: 14.3s\n",
      "286:\tlearn: 0.4035805\ttotal: 5.73s\tremaining: 14.2s\n",
      "287:\tlearn: 0.4035065\ttotal: 5.74s\tremaining: 14.2s\n",
      "288:\tlearn: 0.4034101\ttotal: 5.74s\tremaining: 14.1s\n",
      "289:\tlearn: 0.4033505\ttotal: 5.75s\tremaining: 14.1s\n",
      "290:\tlearn: 0.4032552\ttotal: 5.76s\tremaining: 14s\n",
      "291:\tlearn: 0.4031802\ttotal: 5.78s\tremaining: 14s\n",
      "292:\tlearn: 0.4031149\ttotal: 5.79s\tremaining: 14s\n",
      "293:\tlearn: 0.4030217\ttotal: 5.8s\tremaining: 13.9s\n",
      "294:\tlearn: 0.4029608\ttotal: 5.81s\tremaining: 13.9s\n",
      "295:\tlearn: 0.4028802\ttotal: 5.82s\tremaining: 13.8s\n",
      "296:\tlearn: 0.4027952\ttotal: 5.83s\tremaining: 13.8s\n",
      "297:\tlearn: 0.4027527\ttotal: 5.84s\tremaining: 13.7s\n",
      "298:\tlearn: 0.4026627\ttotal: 5.84s\tremaining: 13.7s\n",
      "299:\tlearn: 0.4026036\ttotal: 5.85s\tremaining: 13.7s\n",
      "300:\tlearn: 0.4025433\ttotal: 5.86s\tremaining: 13.6s\n",
      "301:\tlearn: 0.4024669\ttotal: 5.87s\tremaining: 13.6s\n",
      "302:\tlearn: 0.4023853\ttotal: 5.88s\tremaining: 13.5s\n",
      "303:\tlearn: 0.4022863\ttotal: 5.89s\tremaining: 13.5s\n",
      "304:\tlearn: 0.4021975\ttotal: 5.9s\tremaining: 13.4s\n",
      "305:\tlearn: 0.4021282\ttotal: 5.91s\tremaining: 13.4s\n",
      "306:\tlearn: 0.4020426\ttotal: 5.92s\tremaining: 13.4s\n",
      "307:\tlearn: 0.4019482\ttotal: 5.92s\tremaining: 13.3s\n",
      "308:\tlearn: 0.4018741\ttotal: 5.93s\tremaining: 13.3s\n",
      "309:\tlearn: 0.4018188\ttotal: 5.94s\tremaining: 13.2s\n",
      "310:\tlearn: 0.4017161\ttotal: 5.95s\tremaining: 13.2s\n",
      "311:\tlearn: 0.4016291\ttotal: 5.96s\tremaining: 13.1s\n",
      "312:\tlearn: 0.4015461\ttotal: 5.97s\tremaining: 13.1s\n",
      "313:\tlearn: 0.4014508\ttotal: 5.98s\tremaining: 13.1s\n",
      "314:\tlearn: 0.4013749\ttotal: 5.99s\tremaining: 13s\n",
      "315:\tlearn: 0.4012746\ttotal: 6s\tremaining: 13s\n",
      "316:\tlearn: 0.4012230\ttotal: 6.01s\tremaining: 13s\n",
      "317:\tlearn: 0.4011736\ttotal: 6.02s\tremaining: 12.9s\n",
      "318:\tlearn: 0.4010991\ttotal: 6.03s\tremaining: 12.9s\n",
      "319:\tlearn: 0.4009935\ttotal: 6.04s\tremaining: 12.8s\n",
      "320:\tlearn: 0.4009170\ttotal: 6.05s\tremaining: 12.8s\n",
      "321:\tlearn: 0.4008502\ttotal: 6.05s\tremaining: 12.7s\n",
      "322:\tlearn: 0.4007761\ttotal: 6.06s\tremaining: 12.7s\n",
      "323:\tlearn: 0.4007162\ttotal: 6.07s\tremaining: 12.7s\n",
      "324:\tlearn: 0.4006372\ttotal: 6.08s\tremaining: 12.6s\n",
      "325:\tlearn: 0.4005693\ttotal: 6.09s\tremaining: 12.6s\n",
      "326:\tlearn: 0.4004707\ttotal: 6.1s\tremaining: 12.6s\n",
      "327:\tlearn: 0.4003978\ttotal: 6.11s\tremaining: 12.5s\n",
      "328:\tlearn: 0.4003142\ttotal: 6.12s\tremaining: 12.5s\n",
      "329:\tlearn: 0.4002531\ttotal: 6.13s\tremaining: 12.4s\n",
      "330:\tlearn: 0.4001744\ttotal: 6.13s\tremaining: 12.4s\n",
      "331:\tlearn: 0.4000398\ttotal: 6.14s\tremaining: 12.4s\n",
      "332:\tlearn: 0.3999815\ttotal: 6.15s\tremaining: 12.3s\n",
      "333:\tlearn: 0.3998547\ttotal: 6.16s\tremaining: 12.3s\n",
      "334:\tlearn: 0.3997883\ttotal: 6.17s\tremaining: 12.2s\n",
      "335:\tlearn: 0.3996998\ttotal: 6.18s\tremaining: 12.2s\n",
      "336:\tlearn: 0.3996149\ttotal: 6.19s\tremaining: 12.2s\n",
      "337:\tlearn: 0.3995565\ttotal: 6.2s\tremaining: 12.1s\n",
      "338:\tlearn: 0.3994867\ttotal: 6.21s\tremaining: 12.1s\n",
      "339:\tlearn: 0.3994046\ttotal: 6.22s\tremaining: 12.1s\n",
      "340:\tlearn: 0.3993186\ttotal: 6.23s\tremaining: 12s\n",
      "341:\tlearn: 0.3992522\ttotal: 6.24s\tremaining: 12s\n",
      "342:\tlearn: 0.3992057\ttotal: 6.25s\tremaining: 12s\n",
      "343:\tlearn: 0.3991377\ttotal: 6.26s\tremaining: 11.9s\n",
      "344:\tlearn: 0.3990259\ttotal: 6.27s\tremaining: 11.9s\n",
      "345:\tlearn: 0.3989197\ttotal: 6.28s\tremaining: 11.9s\n",
      "346:\tlearn: 0.3988447\ttotal: 6.29s\tremaining: 11.8s\n",
      "347:\tlearn: 0.3987389\ttotal: 6.29s\tremaining: 11.8s\n",
      "348:\tlearn: 0.3985872\ttotal: 6.3s\tremaining: 11.8s\n",
      "349:\tlearn: 0.3984610\ttotal: 6.31s\tremaining: 11.7s\n",
      "350:\tlearn: 0.3983563\ttotal: 6.32s\tremaining: 11.7s\n",
      "351:\tlearn: 0.3982356\ttotal: 6.33s\tremaining: 11.7s\n",
      "352:\tlearn: 0.3981648\ttotal: 6.34s\tremaining: 11.6s\n",
      "353:\tlearn: 0.3980694\ttotal: 6.35s\tremaining: 11.6s\n",
      "354:\tlearn: 0.3979806\ttotal: 6.36s\tremaining: 11.5s\n",
      "355:\tlearn: 0.3979138\ttotal: 6.36s\tremaining: 11.5s\n",
      "356:\tlearn: 0.3978188\ttotal: 6.37s\tremaining: 11.5s\n",
      "357:\tlearn: 0.3977585\ttotal: 6.38s\tremaining: 11.4s\n",
      "358:\tlearn: 0.3976836\ttotal: 6.39s\tremaining: 11.4s\n",
      "359:\tlearn: 0.3975735\ttotal: 6.41s\tremaining: 11.4s\n",
      "360:\tlearn: 0.3975058\ttotal: 6.42s\tremaining: 11.4s\n",
      "361:\tlearn: 0.3974475\ttotal: 6.43s\tremaining: 11.3s\n",
      "362:\tlearn: 0.3973518\ttotal: 6.43s\tremaining: 11.3s\n",
      "363:\tlearn: 0.3972628\ttotal: 6.44s\tremaining: 11.3s\n",
      "364:\tlearn: 0.3972216\ttotal: 6.45s\tremaining: 11.2s\n",
      "365:\tlearn: 0.3971442\ttotal: 6.46s\tremaining: 11.2s\n",
      "366:\tlearn: 0.3970906\ttotal: 6.47s\tremaining: 11.2s\n",
      "367:\tlearn: 0.3970081\ttotal: 6.48s\tremaining: 11.1s\n",
      "368:\tlearn: 0.3969649\ttotal: 6.49s\tremaining: 11.1s\n",
      "369:\tlearn: 0.3968593\ttotal: 6.5s\tremaining: 11.1s\n",
      "370:\tlearn: 0.3967810\ttotal: 6.51s\tremaining: 11s\n",
      "371:\tlearn: 0.3966863\ttotal: 6.52s\tremaining: 11s\n",
      "372:\tlearn: 0.3965900\ttotal: 6.53s\tremaining: 11s\n",
      "373:\tlearn: 0.3965137\ttotal: 6.53s\tremaining: 10.9s\n",
      "374:\tlearn: 0.3964426\ttotal: 6.54s\tremaining: 10.9s\n",
      "375:\tlearn: 0.3963475\ttotal: 6.55s\tremaining: 10.9s\n",
      "376:\tlearn: 0.3962727\ttotal: 6.56s\tremaining: 10.8s\n",
      "377:\tlearn: 0.3961590\ttotal: 6.57s\tremaining: 10.8s\n",
      "378:\tlearn: 0.3960831\ttotal: 6.58s\tremaining: 10.8s\n",
      "379:\tlearn: 0.3959829\ttotal: 6.58s\tremaining: 10.7s\n",
      "380:\tlearn: 0.3959093\ttotal: 6.59s\tremaining: 10.7s\n",
      "381:\tlearn: 0.3957781\ttotal: 6.61s\tremaining: 10.7s\n",
      "382:\tlearn: 0.3956138\ttotal: 6.62s\tremaining: 10.7s\n",
      "383:\tlearn: 0.3955162\ttotal: 6.63s\tremaining: 10.6s\n",
      "384:\tlearn: 0.3954077\ttotal: 6.64s\tremaining: 10.6s\n",
      "385:\tlearn: 0.3953594\ttotal: 6.65s\tremaining: 10.6s\n",
      "386:\tlearn: 0.3952652\ttotal: 6.66s\tremaining: 10.5s\n",
      "387:\tlearn: 0.3951934\ttotal: 6.67s\tremaining: 10.5s\n",
      "388:\tlearn: 0.3950673\ttotal: 6.68s\tremaining: 10.5s\n",
      "389:\tlearn: 0.3949812\ttotal: 6.68s\tremaining: 10.5s\n",
      "390:\tlearn: 0.3948943\ttotal: 6.69s\tremaining: 10.4s\n",
      "391:\tlearn: 0.3947756\ttotal: 6.7s\tremaining: 10.4s\n",
      "392:\tlearn: 0.3946953\ttotal: 6.71s\tremaining: 10.4s\n",
      "393:\tlearn: 0.3946487\ttotal: 6.72s\tremaining: 10.3s\n",
      "394:\tlearn: 0.3945758\ttotal: 6.73s\tremaining: 10.3s\n",
      "395:\tlearn: 0.3945155\ttotal: 6.74s\tremaining: 10.3s\n",
      "396:\tlearn: 0.3944206\ttotal: 6.75s\tremaining: 10.2s\n",
      "397:\tlearn: 0.3943550\ttotal: 6.75s\tremaining: 10.2s\n",
      "398:\tlearn: 0.3942804\ttotal: 6.76s\tremaining: 10.2s\n",
      "399:\tlearn: 0.3942034\ttotal: 6.77s\tremaining: 10.2s\n",
      "400:\tlearn: 0.3941207\ttotal: 6.78s\tremaining: 10.1s\n",
      "401:\tlearn: 0.3940198\ttotal: 6.79s\tremaining: 10.1s\n",
      "402:\tlearn: 0.3939357\ttotal: 6.8s\tremaining: 10.1s\n",
      "403:\tlearn: 0.3938618\ttotal: 6.81s\tremaining: 10s\n",
      "404:\tlearn: 0.3937620\ttotal: 6.82s\tremaining: 10s\n",
      "405:\tlearn: 0.3936981\ttotal: 6.83s\tremaining: 9.99s\n",
      "406:\tlearn: 0.3936161\ttotal: 6.84s\tremaining: 9.97s\n",
      "407:\tlearn: 0.3935689\ttotal: 6.85s\tremaining: 9.94s\n",
      "408:\tlearn: 0.3934873\ttotal: 6.86s\tremaining: 9.91s\n",
      "409:\tlearn: 0.3934100\ttotal: 6.87s\tremaining: 9.88s\n",
      "410:\tlearn: 0.3933419\ttotal: 6.88s\tremaining: 9.86s\n",
      "411:\tlearn: 0.3932733\ttotal: 6.89s\tremaining: 9.83s\n",
      "412:\tlearn: 0.3932033\ttotal: 6.89s\tremaining: 9.8s\n",
      "413:\tlearn: 0.3930887\ttotal: 6.9s\tremaining: 9.77s\n",
      "414:\tlearn: 0.3929764\ttotal: 6.91s\tremaining: 9.74s\n",
      "415:\tlearn: 0.3928722\ttotal: 6.92s\tremaining: 9.71s\n",
      "416:\tlearn: 0.3928011\ttotal: 6.93s\tremaining: 9.69s\n",
      "417:\tlearn: 0.3927288\ttotal: 6.94s\tremaining: 9.66s\n",
      "418:\tlearn: 0.3926439\ttotal: 6.95s\tremaining: 9.63s\n",
      "419:\tlearn: 0.3925477\ttotal: 6.96s\tremaining: 9.61s\n",
      "420:\tlearn: 0.3924348\ttotal: 6.96s\tremaining: 9.58s\n",
      "421:\tlearn: 0.3923573\ttotal: 6.97s\tremaining: 9.55s\n",
      "422:\tlearn: 0.3922876\ttotal: 6.98s\tremaining: 9.52s\n",
      "423:\tlearn: 0.3922206\ttotal: 6.99s\tremaining: 9.49s\n",
      "424:\tlearn: 0.3921319\ttotal: 7s\tremaining: 9.47s\n",
      "425:\tlearn: 0.3920376\ttotal: 7.01s\tremaining: 9.44s\n",
      "426:\tlearn: 0.3919779\ttotal: 7.02s\tremaining: 9.42s\n",
      "427:\tlearn: 0.3919208\ttotal: 7.03s\tremaining: 9.39s\n",
      "428:\tlearn: 0.3918730\ttotal: 7.04s\tremaining: 9.37s\n",
      "429:\tlearn: 0.3917824\ttotal: 7.05s\tremaining: 9.35s\n",
      "430:\tlearn: 0.3917052\ttotal: 7.06s\tremaining: 9.32s\n",
      "431:\tlearn: 0.3916346\ttotal: 7.07s\tremaining: 9.3s\n",
      "432:\tlearn: 0.3915925\ttotal: 7.08s\tremaining: 9.27s\n",
      "433:\tlearn: 0.3915272\ttotal: 7.09s\tremaining: 9.25s\n",
      "434:\tlearn: 0.3914834\ttotal: 7.1s\tremaining: 9.22s\n",
      "435:\tlearn: 0.3914269\ttotal: 7.11s\tremaining: 9.2s\n",
      "436:\tlearn: 0.3913451\ttotal: 7.12s\tremaining: 9.17s\n",
      "437:\tlearn: 0.3912538\ttotal: 7.13s\tremaining: 9.14s\n",
      "438:\tlearn: 0.3911825\ttotal: 7.13s\tremaining: 9.12s\n",
      "439:\tlearn: 0.3911279\ttotal: 7.14s\tremaining: 9.09s\n",
      "440:\tlearn: 0.3910466\ttotal: 7.15s\tremaining: 9.06s\n",
      "441:\tlearn: 0.3909779\ttotal: 7.16s\tremaining: 9.04s\n",
      "442:\tlearn: 0.3909149\ttotal: 7.17s\tremaining: 9.01s\n",
      "443:\tlearn: 0.3908412\ttotal: 7.18s\tremaining: 8.99s\n",
      "444:\tlearn: 0.3907800\ttotal: 7.18s\tremaining: 8.96s\n",
      "445:\tlearn: 0.3907326\ttotal: 7.19s\tremaining: 8.94s\n",
      "446:\tlearn: 0.3906505\ttotal: 7.2s\tremaining: 8.91s\n",
      "447:\tlearn: 0.3905572\ttotal: 7.21s\tremaining: 8.89s\n",
      "448:\tlearn: 0.3904766\ttotal: 7.22s\tremaining: 8.86s\n",
      "449:\tlearn: 0.3903992\ttotal: 7.23s\tremaining: 8.84s\n",
      "450:\tlearn: 0.3903300\ttotal: 7.25s\tremaining: 8.82s\n",
      "451:\tlearn: 0.3902389\ttotal: 7.26s\tremaining: 8.8s\n",
      "452:\tlearn: 0.3901795\ttotal: 7.27s\tremaining: 8.78s\n",
      "453:\tlearn: 0.3901076\ttotal: 7.28s\tremaining: 8.75s\n",
      "454:\tlearn: 0.3900323\ttotal: 7.29s\tremaining: 8.73s\n",
      "455:\tlearn: 0.3899615\ttotal: 7.29s\tremaining: 8.7s\n",
      "456:\tlearn: 0.3898905\ttotal: 7.3s\tremaining: 8.68s\n",
      "457:\tlearn: 0.3898206\ttotal: 7.31s\tremaining: 8.65s\n",
      "458:\tlearn: 0.3897390\ttotal: 7.32s\tremaining: 8.63s\n",
      "459:\tlearn: 0.3896594\ttotal: 7.33s\tremaining: 8.61s\n",
      "460:\tlearn: 0.3896066\ttotal: 7.34s\tremaining: 8.58s\n",
      "461:\tlearn: 0.3895373\ttotal: 7.35s\tremaining: 8.56s\n",
      "462:\tlearn: 0.3894969\ttotal: 7.36s\tremaining: 8.53s\n",
      "463:\tlearn: 0.3893838\ttotal: 7.37s\tremaining: 8.51s\n",
      "464:\tlearn: 0.3893127\ttotal: 7.37s\tremaining: 8.48s\n",
      "465:\tlearn: 0.3892250\ttotal: 7.38s\tremaining: 8.46s\n",
      "466:\tlearn: 0.3891420\ttotal: 7.39s\tremaining: 8.44s\n",
      "467:\tlearn: 0.3890668\ttotal: 7.4s\tremaining: 8.41s\n",
      "468:\tlearn: 0.3890134\ttotal: 7.41s\tremaining: 8.39s\n",
      "469:\tlearn: 0.3889296\ttotal: 7.42s\tremaining: 8.37s\n",
      "470:\tlearn: 0.3888514\ttotal: 7.44s\tremaining: 8.36s\n",
      "471:\tlearn: 0.3887753\ttotal: 7.45s\tremaining: 8.34s\n",
      "472:\tlearn: 0.3887099\ttotal: 7.47s\tremaining: 8.32s\n",
      "473:\tlearn: 0.3886467\ttotal: 7.47s\tremaining: 8.29s\n",
      "474:\tlearn: 0.3885753\ttotal: 7.48s\tremaining: 8.27s\n",
      "475:\tlearn: 0.3885012\ttotal: 7.49s\tremaining: 8.25s\n",
      "476:\tlearn: 0.3884366\ttotal: 7.5s\tremaining: 8.22s\n",
      "477:\tlearn: 0.3883835\ttotal: 7.51s\tremaining: 8.2s\n",
      "478:\tlearn: 0.3883249\ttotal: 7.52s\tremaining: 8.18s\n",
      "479:\tlearn: 0.3882838\ttotal: 7.53s\tremaining: 8.15s\n",
      "480:\tlearn: 0.3882311\ttotal: 7.54s\tremaining: 8.13s\n",
      "481:\tlearn: 0.3881548\ttotal: 7.54s\tremaining: 8.11s\n",
      "482:\tlearn: 0.3880726\ttotal: 7.55s\tremaining: 8.08s\n",
      "483:\tlearn: 0.3880293\ttotal: 7.56s\tremaining: 8.06s\n",
      "484:\tlearn: 0.3879310\ttotal: 7.57s\tremaining: 8.04s\n",
      "485:\tlearn: 0.3878623\ttotal: 7.58s\tremaining: 8.02s\n",
      "486:\tlearn: 0.3877727\ttotal: 7.59s\tremaining: 7.99s\n",
      "487:\tlearn: 0.3877040\ttotal: 7.6s\tremaining: 7.97s\n",
      "488:\tlearn: 0.3876248\ttotal: 7.6s\tremaining: 7.95s\n",
      "489:\tlearn: 0.3874898\ttotal: 7.61s\tremaining: 7.92s\n",
      "490:\tlearn: 0.3874139\ttotal: 7.62s\tremaining: 7.9s\n",
      "491:\tlearn: 0.3873597\ttotal: 7.63s\tremaining: 7.88s\n",
      "492:\tlearn: 0.3872626\ttotal: 7.64s\tremaining: 7.86s\n",
      "493:\tlearn: 0.3872184\ttotal: 7.65s\tremaining: 7.84s\n",
      "494:\tlearn: 0.3871315\ttotal: 7.66s\tremaining: 7.82s\n",
      "495:\tlearn: 0.3870465\ttotal: 7.68s\tremaining: 7.8s\n",
      "496:\tlearn: 0.3869653\ttotal: 7.68s\tremaining: 7.78s\n",
      "497:\tlearn: 0.3869379\ttotal: 7.69s\tremaining: 7.75s\n",
      "498:\tlearn: 0.3868822\ttotal: 7.7s\tremaining: 7.73s\n",
      "499:\tlearn: 0.3868427\ttotal: 7.71s\tremaining: 7.71s\n",
      "500:\tlearn: 0.3867707\ttotal: 7.72s\tremaining: 7.69s\n",
      "501:\tlearn: 0.3867075\ttotal: 7.73s\tremaining: 7.67s\n",
      "502:\tlearn: 0.3866120\ttotal: 7.74s\tremaining: 7.64s\n",
      "503:\tlearn: 0.3865441\ttotal: 7.75s\tremaining: 7.62s\n",
      "504:\tlearn: 0.3864652\ttotal: 7.75s\tremaining: 7.6s\n",
      "505:\tlearn: 0.3863880\ttotal: 7.76s\tremaining: 7.58s\n",
      "506:\tlearn: 0.3863152\ttotal: 7.77s\tremaining: 7.56s\n",
      "507:\tlearn: 0.3862324\ttotal: 7.78s\tremaining: 7.54s\n",
      "508:\tlearn: 0.3861626\ttotal: 7.79s\tremaining: 7.51s\n",
      "509:\tlearn: 0.3860836\ttotal: 7.8s\tremaining: 7.49s\n",
      "510:\tlearn: 0.3860245\ttotal: 7.81s\tremaining: 7.47s\n",
      "511:\tlearn: 0.3859383\ttotal: 7.81s\tremaining: 7.45s\n",
      "512:\tlearn: 0.3858898\ttotal: 7.82s\tremaining: 7.43s\n",
      "513:\tlearn: 0.3858102\ttotal: 7.83s\tremaining: 7.41s\n",
      "514:\tlearn: 0.3857378\ttotal: 7.84s\tremaining: 7.38s\n",
      "515:\tlearn: 0.3856789\ttotal: 7.85s\tremaining: 7.37s\n",
      "516:\tlearn: 0.3856276\ttotal: 7.87s\tremaining: 7.35s\n",
      "517:\tlearn: 0.3855660\ttotal: 7.88s\tremaining: 7.33s\n",
      "518:\tlearn: 0.3855115\ttotal: 7.89s\tremaining: 7.31s\n",
      "519:\tlearn: 0.3854277\ttotal: 7.9s\tremaining: 7.29s\n",
      "520:\tlearn: 0.3853697\ttotal: 7.91s\tremaining: 7.27s\n",
      "521:\tlearn: 0.3852659\ttotal: 7.91s\tremaining: 7.25s\n",
      "522:\tlearn: 0.3852084\ttotal: 7.92s\tremaining: 7.22s\n",
      "523:\tlearn: 0.3851383\ttotal: 7.93s\tremaining: 7.2s\n",
      "524:\tlearn: 0.3850500\ttotal: 7.94s\tremaining: 7.18s\n",
      "525:\tlearn: 0.3850010\ttotal: 7.95s\tremaining: 7.16s\n",
      "526:\tlearn: 0.3849206\ttotal: 7.96s\tremaining: 7.14s\n",
      "527:\tlearn: 0.3848460\ttotal: 7.96s\tremaining: 7.12s\n",
      "528:\tlearn: 0.3847813\ttotal: 7.97s\tremaining: 7.1s\n",
      "529:\tlearn: 0.3847206\ttotal: 7.98s\tremaining: 7.08s\n",
      "530:\tlearn: 0.3846672\ttotal: 7.99s\tremaining: 7.06s\n",
      "531:\tlearn: 0.3846311\ttotal: 8s\tremaining: 7.04s\n",
      "532:\tlearn: 0.3845830\ttotal: 8.01s\tremaining: 7.01s\n",
      "533:\tlearn: 0.3845333\ttotal: 8.02s\tremaining: 7s\n",
      "534:\tlearn: 0.3844877\ttotal: 8.02s\tremaining: 6.97s\n",
      "535:\tlearn: 0.3844333\ttotal: 8.03s\tremaining: 6.95s\n",
      "536:\tlearn: 0.3843593\ttotal: 8.04s\tremaining: 6.93s\n",
      "537:\tlearn: 0.3843041\ttotal: 8.05s\tremaining: 6.92s\n",
      "538:\tlearn: 0.3842405\ttotal: 8.07s\tremaining: 6.9s\n",
      "539:\tlearn: 0.3841647\ttotal: 8.08s\tremaining: 6.88s\n",
      "540:\tlearn: 0.3841002\ttotal: 8.09s\tremaining: 6.86s\n",
      "541:\tlearn: 0.3840534\ttotal: 8.1s\tremaining: 6.84s\n",
      "542:\tlearn: 0.3839866\ttotal: 8.11s\tremaining: 6.82s\n",
      "543:\tlearn: 0.3839370\ttotal: 8.12s\tremaining: 6.8s\n",
      "544:\tlearn: 0.3838743\ttotal: 8.12s\tremaining: 6.78s\n",
      "545:\tlearn: 0.3838095\ttotal: 8.13s\tremaining: 6.76s\n",
      "546:\tlearn: 0.3836944\ttotal: 8.14s\tremaining: 6.74s\n",
      "547:\tlearn: 0.3836106\ttotal: 8.15s\tremaining: 6.72s\n",
      "548:\tlearn: 0.3835468\ttotal: 8.16s\tremaining: 6.7s\n",
      "549:\tlearn: 0.3834890\ttotal: 8.17s\tremaining: 6.68s\n",
      "550:\tlearn: 0.3834355\ttotal: 8.18s\tremaining: 6.66s\n",
      "551:\tlearn: 0.3833602\ttotal: 8.19s\tremaining: 6.64s\n",
      "552:\tlearn: 0.3832905\ttotal: 8.2s\tremaining: 6.62s\n",
      "553:\tlearn: 0.3831946\ttotal: 8.2s\tremaining: 6.6s\n",
      "554:\tlearn: 0.3831294\ttotal: 8.21s\tremaining: 6.58s\n",
      "555:\tlearn: 0.3830909\ttotal: 8.22s\tremaining: 6.56s\n",
      "556:\tlearn: 0.3830146\ttotal: 8.23s\tremaining: 6.55s\n",
      "557:\tlearn: 0.3829530\ttotal: 8.24s\tremaining: 6.53s\n",
      "558:\tlearn: 0.3828902\ttotal: 8.25s\tremaining: 6.51s\n",
      "559:\tlearn: 0.3828477\ttotal: 8.26s\tremaining: 6.49s\n",
      "560:\tlearn: 0.3828053\ttotal: 8.27s\tremaining: 6.47s\n",
      "561:\tlearn: 0.3827308\ttotal: 8.28s\tremaining: 6.45s\n",
      "562:\tlearn: 0.3826637\ttotal: 8.29s\tremaining: 6.44s\n",
      "563:\tlearn: 0.3826175\ttotal: 8.3s\tremaining: 6.42s\n",
      "564:\tlearn: 0.3825385\ttotal: 8.31s\tremaining: 6.4s\n",
      "565:\tlearn: 0.3824679\ttotal: 8.32s\tremaining: 6.38s\n",
      "566:\tlearn: 0.3824072\ttotal: 8.33s\tremaining: 6.36s\n",
      "567:\tlearn: 0.3823461\ttotal: 8.34s\tremaining: 6.34s\n",
      "568:\tlearn: 0.3822725\ttotal: 8.35s\tremaining: 6.33s\n",
      "569:\tlearn: 0.3821731\ttotal: 8.36s\tremaining: 6.31s\n",
      "570:\tlearn: 0.3820857\ttotal: 8.37s\tremaining: 6.29s\n",
      "571:\tlearn: 0.3819792\ttotal: 8.38s\tremaining: 6.27s\n",
      "572:\tlearn: 0.3818931\ttotal: 8.39s\tremaining: 6.25s\n",
      "573:\tlearn: 0.3818142\ttotal: 8.4s\tremaining: 6.23s\n",
      "574:\tlearn: 0.3817584\ttotal: 8.41s\tremaining: 6.21s\n",
      "575:\tlearn: 0.3817180\ttotal: 8.41s\tremaining: 6.19s\n",
      "576:\tlearn: 0.3816843\ttotal: 8.42s\tremaining: 6.17s\n",
      "577:\tlearn: 0.3815938\ttotal: 8.43s\tremaining: 6.16s\n",
      "578:\tlearn: 0.3815340\ttotal: 8.44s\tremaining: 6.14s\n",
      "579:\tlearn: 0.3814785\ttotal: 8.45s\tremaining: 6.12s\n",
      "580:\tlearn: 0.3814214\ttotal: 8.46s\tremaining: 6.1s\n",
      "581:\tlearn: 0.3813539\ttotal: 8.47s\tremaining: 6.08s\n",
      "582:\tlearn: 0.3813100\ttotal: 8.48s\tremaining: 6.07s\n",
      "583:\tlearn: 0.3812673\ttotal: 8.49s\tremaining: 6.05s\n",
      "584:\tlearn: 0.3812141\ttotal: 8.5s\tremaining: 6.03s\n",
      "585:\tlearn: 0.3811167\ttotal: 8.51s\tremaining: 6.01s\n",
      "586:\tlearn: 0.3810566\ttotal: 8.52s\tremaining: 5.99s\n",
      "587:\tlearn: 0.3809834\ttotal: 8.53s\tremaining: 5.97s\n",
      "588:\tlearn: 0.3809397\ttotal: 8.54s\tremaining: 5.96s\n",
      "589:\tlearn: 0.3808572\ttotal: 8.54s\tremaining: 5.94s\n",
      "590:\tlearn: 0.3808027\ttotal: 8.55s\tremaining: 5.92s\n",
      "591:\tlearn: 0.3807108\ttotal: 8.56s\tremaining: 5.9s\n",
      "592:\tlearn: 0.3806481\ttotal: 8.57s\tremaining: 5.88s\n",
      "593:\tlearn: 0.3805903\ttotal: 8.58s\tremaining: 5.86s\n",
      "594:\tlearn: 0.3805177\ttotal: 8.59s\tremaining: 5.84s\n",
      "595:\tlearn: 0.3804511\ttotal: 8.6s\tremaining: 5.83s\n",
      "596:\tlearn: 0.3803893\ttotal: 8.6s\tremaining: 5.81s\n",
      "597:\tlearn: 0.3803375\ttotal: 8.61s\tremaining: 5.79s\n",
      "598:\tlearn: 0.3803137\ttotal: 8.62s\tremaining: 5.77s\n",
      "599:\tlearn: 0.3802489\ttotal: 8.63s\tremaining: 5.75s\n",
      "600:\tlearn: 0.3802024\ttotal: 8.64s\tremaining: 5.73s\n",
      "601:\tlearn: 0.3801581\ttotal: 8.65s\tremaining: 5.72s\n",
      "602:\tlearn: 0.3801179\ttotal: 8.65s\tremaining: 5.7s\n",
      "603:\tlearn: 0.3800792\ttotal: 8.66s\tremaining: 5.68s\n",
      "604:\tlearn: 0.3800107\ttotal: 8.68s\tremaining: 5.66s\n",
      "605:\tlearn: 0.3799329\ttotal: 8.68s\tremaining: 5.65s\n",
      "606:\tlearn: 0.3798853\ttotal: 8.69s\tremaining: 5.63s\n",
      "607:\tlearn: 0.3798319\ttotal: 8.7s\tremaining: 5.61s\n",
      "608:\tlearn: 0.3797241\ttotal: 8.71s\tremaining: 5.59s\n",
      "609:\tlearn: 0.3796296\ttotal: 8.72s\tremaining: 5.57s\n",
      "610:\tlearn: 0.3795899\ttotal: 8.73s\tremaining: 5.56s\n",
      "611:\tlearn: 0.3795534\ttotal: 8.74s\tremaining: 5.54s\n",
      "612:\tlearn: 0.3794660\ttotal: 8.75s\tremaining: 5.53s\n",
      "613:\tlearn: 0.3794261\ttotal: 8.76s\tremaining: 5.51s\n",
      "614:\tlearn: 0.3793600\ttotal: 8.79s\tremaining: 5.5s\n",
      "615:\tlearn: 0.3793169\ttotal: 8.8s\tremaining: 5.48s\n",
      "616:\tlearn: 0.3792332\ttotal: 8.81s\tremaining: 5.47s\n",
      "617:\tlearn: 0.3792052\ttotal: 8.81s\tremaining: 5.45s\n",
      "618:\tlearn: 0.3791240\ttotal: 8.82s\tremaining: 5.43s\n",
      "619:\tlearn: 0.3790707\ttotal: 8.84s\tremaining: 5.42s\n",
      "620:\tlearn: 0.3790196\ttotal: 8.84s\tremaining: 5.4s\n",
      "621:\tlearn: 0.3789234\ttotal: 8.85s\tremaining: 5.38s\n",
      "622:\tlearn: 0.3788722\ttotal: 8.86s\tremaining: 5.36s\n",
      "623:\tlearn: 0.3787991\ttotal: 8.87s\tremaining: 5.34s\n",
      "624:\tlearn: 0.3787520\ttotal: 8.88s\tremaining: 5.33s\n",
      "625:\tlearn: 0.3786809\ttotal: 8.89s\tremaining: 5.31s\n",
      "626:\tlearn: 0.3786280\ttotal: 8.9s\tremaining: 5.29s\n",
      "627:\tlearn: 0.3785737\ttotal: 8.91s\tremaining: 5.28s\n",
      "628:\tlearn: 0.3785171\ttotal: 8.92s\tremaining: 5.26s\n",
      "629:\tlearn: 0.3784599\ttotal: 8.92s\tremaining: 5.24s\n",
      "630:\tlearn: 0.3784042\ttotal: 8.93s\tremaining: 5.22s\n",
      "631:\tlearn: 0.3783264\ttotal: 8.94s\tremaining: 5.21s\n",
      "632:\tlearn: 0.3782882\ttotal: 8.95s\tremaining: 5.19s\n",
      "633:\tlearn: 0.3782508\ttotal: 8.96s\tremaining: 5.17s\n",
      "634:\tlearn: 0.3781813\ttotal: 8.97s\tremaining: 5.15s\n",
      "635:\tlearn: 0.3781402\ttotal: 8.97s\tremaining: 5.14s\n",
      "636:\tlearn: 0.3780843\ttotal: 8.98s\tremaining: 5.12s\n",
      "637:\tlearn: 0.3780249\ttotal: 8.99s\tremaining: 5.1s\n",
      "638:\tlearn: 0.3779546\ttotal: 9s\tremaining: 5.08s\n",
      "639:\tlearn: 0.3778972\ttotal: 9.01s\tremaining: 5.07s\n",
      "640:\tlearn: 0.3778405\ttotal: 9.02s\tremaining: 5.05s\n",
      "641:\tlearn: 0.3777479\ttotal: 9.03s\tremaining: 5.03s\n",
      "642:\tlearn: 0.3776730\ttotal: 9.03s\tremaining: 5.01s\n",
      "643:\tlearn: 0.3776080\ttotal: 9.04s\tremaining: 5s\n",
      "644:\tlearn: 0.3775634\ttotal: 9.05s\tremaining: 4.98s\n",
      "645:\tlearn: 0.3775228\ttotal: 9.06s\tremaining: 4.97s\n",
      "646:\tlearn: 0.3774640\ttotal: 9.07s\tremaining: 4.95s\n",
      "647:\tlearn: 0.3774187\ttotal: 9.08s\tremaining: 4.93s\n",
      "648:\tlearn: 0.3773680\ttotal: 9.1s\tremaining: 4.92s\n",
      "649:\tlearn: 0.3773337\ttotal: 9.11s\tremaining: 4.9s\n",
      "650:\tlearn: 0.3772715\ttotal: 9.12s\tremaining: 4.89s\n",
      "651:\tlearn: 0.3772102\ttotal: 9.13s\tremaining: 4.87s\n",
      "652:\tlearn: 0.3771459\ttotal: 9.14s\tremaining: 4.86s\n",
      "653:\tlearn: 0.3770998\ttotal: 9.15s\tremaining: 4.84s\n",
      "654:\tlearn: 0.3770491\ttotal: 9.16s\tremaining: 4.82s\n",
      "655:\tlearn: 0.3769798\ttotal: 9.17s\tremaining: 4.81s\n",
      "656:\tlearn: 0.3769336\ttotal: 9.18s\tremaining: 4.79s\n",
      "657:\tlearn: 0.3768741\ttotal: 9.18s\tremaining: 4.77s\n",
      "658:\tlearn: 0.3768179\ttotal: 9.19s\tremaining: 4.76s\n",
      "659:\tlearn: 0.3767705\ttotal: 9.2s\tremaining: 4.74s\n",
      "660:\tlearn: 0.3767100\ttotal: 9.21s\tremaining: 4.72s\n",
      "661:\tlearn: 0.3766700\ttotal: 9.22s\tremaining: 4.71s\n",
      "662:\tlearn: 0.3766265\ttotal: 9.23s\tremaining: 4.69s\n",
      "663:\tlearn: 0.3765933\ttotal: 9.24s\tremaining: 4.67s\n",
      "664:\tlearn: 0.3765620\ttotal: 9.25s\tremaining: 4.66s\n",
      "665:\tlearn: 0.3765115\ttotal: 9.26s\tremaining: 4.64s\n",
      "666:\tlearn: 0.3764603\ttotal: 9.26s\tremaining: 4.63s\n",
      "667:\tlearn: 0.3763773\ttotal: 9.28s\tremaining: 4.61s\n",
      "668:\tlearn: 0.3763089\ttotal: 9.29s\tremaining: 4.6s\n",
      "669:\tlearn: 0.3762747\ttotal: 9.3s\tremaining: 4.58s\n",
      "670:\tlearn: 0.3762142\ttotal: 9.31s\tremaining: 4.57s\n",
      "671:\tlearn: 0.3761567\ttotal: 9.33s\tremaining: 4.55s\n",
      "672:\tlearn: 0.3760949\ttotal: 9.34s\tremaining: 4.54s\n",
      "673:\tlearn: 0.3760377\ttotal: 9.34s\tremaining: 4.52s\n",
      "674:\tlearn: 0.3760013\ttotal: 9.35s\tremaining: 4.5s\n",
      "675:\tlearn: 0.3759324\ttotal: 9.36s\tremaining: 4.49s\n",
      "676:\tlearn: 0.3758801\ttotal: 9.37s\tremaining: 4.47s\n",
      "677:\tlearn: 0.3758381\ttotal: 9.38s\tremaining: 4.45s\n",
      "678:\tlearn: 0.3757870\ttotal: 9.39s\tremaining: 4.44s\n",
      "679:\tlearn: 0.3757416\ttotal: 9.4s\tremaining: 4.42s\n",
      "680:\tlearn: 0.3756739\ttotal: 9.4s\tremaining: 4.41s\n",
      "681:\tlearn: 0.3756148\ttotal: 9.41s\tremaining: 4.39s\n",
      "682:\tlearn: 0.3755537\ttotal: 9.42s\tremaining: 4.37s\n",
      "683:\tlearn: 0.3755056\ttotal: 9.43s\tremaining: 4.36s\n",
      "684:\tlearn: 0.3754629\ttotal: 9.44s\tremaining: 4.34s\n",
      "685:\tlearn: 0.3754247\ttotal: 9.45s\tremaining: 4.33s\n",
      "686:\tlearn: 0.3753509\ttotal: 9.46s\tremaining: 4.31s\n",
      "687:\tlearn: 0.3753107\ttotal: 9.47s\tremaining: 4.29s\n",
      "688:\tlearn: 0.3752788\ttotal: 9.47s\tremaining: 4.28s\n",
      "689:\tlearn: 0.3752142\ttotal: 9.48s\tremaining: 4.26s\n",
      "690:\tlearn: 0.3751628\ttotal: 9.49s\tremaining: 4.24s\n",
      "691:\tlearn: 0.3750634\ttotal: 9.5s\tremaining: 4.23s\n",
      "692:\tlearn: 0.3749971\ttotal: 9.52s\tremaining: 4.21s\n",
      "693:\tlearn: 0.3749356\ttotal: 9.53s\tremaining: 4.2s\n",
      "694:\tlearn: 0.3749042\ttotal: 9.54s\tremaining: 4.18s\n",
      "695:\tlearn: 0.3748341\ttotal: 9.55s\tremaining: 4.17s\n",
      "696:\tlearn: 0.3747872\ttotal: 9.55s\tremaining: 4.15s\n",
      "697:\tlearn: 0.3747328\ttotal: 9.56s\tremaining: 4.14s\n",
      "698:\tlearn: 0.3746492\ttotal: 9.57s\tremaining: 4.12s\n",
      "699:\tlearn: 0.3745893\ttotal: 9.58s\tremaining: 4.11s\n",
      "700:\tlearn: 0.3745258\ttotal: 9.59s\tremaining: 4.09s\n",
      "701:\tlearn: 0.3744885\ttotal: 9.6s\tremaining: 4.07s\n",
      "702:\tlearn: 0.3744260\ttotal: 9.6s\tremaining: 4.06s\n",
      "703:\tlearn: 0.3743347\ttotal: 9.61s\tremaining: 4.04s\n",
      "704:\tlearn: 0.3742559\ttotal: 9.62s\tremaining: 4.03s\n",
      "705:\tlearn: 0.3742127\ttotal: 9.63s\tremaining: 4.01s\n",
      "706:\tlearn: 0.3741438\ttotal: 9.64s\tremaining: 4s\n",
      "707:\tlearn: 0.3740939\ttotal: 9.65s\tremaining: 3.98s\n",
      "708:\tlearn: 0.3740164\ttotal: 9.66s\tremaining: 3.96s\n",
      "709:\tlearn: 0.3739730\ttotal: 9.67s\tremaining: 3.95s\n",
      "710:\tlearn: 0.3739018\ttotal: 9.68s\tremaining: 3.93s\n",
      "711:\tlearn: 0.3738342\ttotal: 9.68s\tremaining: 3.92s\n",
      "712:\tlearn: 0.3737745\ttotal: 9.69s\tremaining: 3.9s\n",
      "713:\tlearn: 0.3736953\ttotal: 9.7s\tremaining: 3.88s\n",
      "714:\tlearn: 0.3736512\ttotal: 9.71s\tremaining: 3.87s\n",
      "715:\tlearn: 0.3736189\ttotal: 9.72s\tremaining: 3.86s\n",
      "716:\tlearn: 0.3735889\ttotal: 9.73s\tremaining: 3.84s\n",
      "717:\tlearn: 0.3735377\ttotal: 9.74s\tremaining: 3.83s\n",
      "718:\tlearn: 0.3734972\ttotal: 9.75s\tremaining: 3.81s\n",
      "719:\tlearn: 0.3734386\ttotal: 9.76s\tremaining: 3.8s\n",
      "720:\tlearn: 0.3733989\ttotal: 9.77s\tremaining: 3.78s\n",
      "721:\tlearn: 0.3733415\ttotal: 9.78s\tremaining: 3.77s\n",
      "722:\tlearn: 0.3733063\ttotal: 9.79s\tremaining: 3.75s\n",
      "723:\tlearn: 0.3732414\ttotal: 9.8s\tremaining: 3.74s\n",
      "724:\tlearn: 0.3731851\ttotal: 9.81s\tremaining: 3.72s\n",
      "725:\tlearn: 0.3731288\ttotal: 9.82s\tremaining: 3.71s\n",
      "726:\tlearn: 0.3730895\ttotal: 9.83s\tremaining: 3.69s\n",
      "727:\tlearn: 0.3730407\ttotal: 9.84s\tremaining: 3.67s\n",
      "728:\tlearn: 0.3730047\ttotal: 9.85s\tremaining: 3.66s\n",
      "729:\tlearn: 0.3729210\ttotal: 9.85s\tremaining: 3.64s\n",
      "730:\tlearn: 0.3728692\ttotal: 9.86s\tremaining: 3.63s\n",
      "731:\tlearn: 0.3728166\ttotal: 9.87s\tremaining: 3.61s\n",
      "732:\tlearn: 0.3727661\ttotal: 9.88s\tremaining: 3.6s\n",
      "733:\tlearn: 0.3727003\ttotal: 9.89s\tremaining: 3.58s\n",
      "734:\tlearn: 0.3726806\ttotal: 9.89s\tremaining: 3.57s\n",
      "735:\tlearn: 0.3726353\ttotal: 9.9s\tremaining: 3.55s\n",
      "736:\tlearn: 0.3725825\ttotal: 9.92s\tremaining: 3.54s\n",
      "737:\tlearn: 0.3725510\ttotal: 9.93s\tremaining: 3.52s\n",
      "738:\tlearn: 0.3725147\ttotal: 9.94s\tremaining: 3.51s\n",
      "739:\tlearn: 0.3724307\ttotal: 9.95s\tremaining: 3.5s\n",
      "740:\tlearn: 0.3723915\ttotal: 9.96s\tremaining: 3.48s\n",
      "741:\tlearn: 0.3723367\ttotal: 9.97s\tremaining: 3.47s\n",
      "742:\tlearn: 0.3722965\ttotal: 9.98s\tremaining: 3.45s\n",
      "743:\tlearn: 0.3722405\ttotal: 9.99s\tremaining: 3.44s\n",
      "744:\tlearn: 0.3722038\ttotal: 10s\tremaining: 3.42s\n",
      "745:\tlearn: 0.3721360\ttotal: 10s\tremaining: 3.41s\n",
      "746:\tlearn: 0.3720962\ttotal: 10s\tremaining: 3.39s\n",
      "747:\tlearn: 0.3720653\ttotal: 10s\tremaining: 3.38s\n",
      "748:\tlearn: 0.3720142\ttotal: 10s\tremaining: 3.36s\n",
      "749:\tlearn: 0.3719588\ttotal: 10s\tremaining: 3.35s\n",
      "750:\tlearn: 0.3719309\ttotal: 10.1s\tremaining: 3.33s\n",
      "751:\tlearn: 0.3718904\ttotal: 10.1s\tremaining: 3.32s\n",
      "752:\tlearn: 0.3718418\ttotal: 10.1s\tremaining: 3.3s\n",
      "753:\tlearn: 0.3717847\ttotal: 10.1s\tremaining: 3.29s\n",
      "754:\tlearn: 0.3717274\ttotal: 10.1s\tremaining: 3.27s\n",
      "755:\tlearn: 0.3716614\ttotal: 10.1s\tremaining: 3.26s\n",
      "756:\tlearn: 0.3716034\ttotal: 10.1s\tremaining: 3.25s\n",
      "757:\tlearn: 0.3715409\ttotal: 10.1s\tremaining: 3.23s\n",
      "758:\tlearn: 0.3714874\ttotal: 10.1s\tremaining: 3.22s\n",
      "759:\tlearn: 0.3714373\ttotal: 10.1s\tremaining: 3.2s\n",
      "760:\tlearn: 0.3713970\ttotal: 10.2s\tremaining: 3.19s\n",
      "761:\tlearn: 0.3713502\ttotal: 10.2s\tremaining: 3.17s\n",
      "762:\tlearn: 0.3712627\ttotal: 10.2s\tremaining: 3.16s\n",
      "763:\tlearn: 0.3712467\ttotal: 10.2s\tremaining: 3.15s\n",
      "764:\tlearn: 0.3712308\ttotal: 10.2s\tremaining: 3.13s\n",
      "765:\tlearn: 0.3712067\ttotal: 10.2s\tremaining: 3.12s\n",
      "766:\tlearn: 0.3711714\ttotal: 10.2s\tremaining: 3.1s\n",
      "767:\tlearn: 0.3711290\ttotal: 10.2s\tremaining: 3.09s\n",
      "768:\tlearn: 0.3710765\ttotal: 10.2s\tremaining: 3.07s\n",
      "769:\tlearn: 0.3710295\ttotal: 10.2s\tremaining: 3.06s\n",
      "770:\tlearn: 0.3709557\ttotal: 10.2s\tremaining: 3.04s\n",
      "771:\tlearn: 0.3709042\ttotal: 10.3s\tremaining: 3.03s\n",
      "772:\tlearn: 0.3708784\ttotal: 10.3s\tremaining: 3.01s\n",
      "773:\tlearn: 0.3708431\ttotal: 10.3s\tremaining: 3s\n",
      "774:\tlearn: 0.3707858\ttotal: 10.3s\tremaining: 2.98s\n",
      "775:\tlearn: 0.3707371\ttotal: 10.3s\tremaining: 2.97s\n",
      "776:\tlearn: 0.3706997\ttotal: 10.3s\tremaining: 2.96s\n",
      "777:\tlearn: 0.3706530\ttotal: 10.3s\tremaining: 2.94s\n",
      "778:\tlearn: 0.3705838\ttotal: 10.3s\tremaining: 2.93s\n",
      "779:\tlearn: 0.3705445\ttotal: 10.3s\tremaining: 2.91s\n",
      "780:\tlearn: 0.3704812\ttotal: 10.3s\tremaining: 2.9s\n",
      "781:\tlearn: 0.3704195\ttotal: 10.4s\tremaining: 2.89s\n",
      "782:\tlearn: 0.3703424\ttotal: 10.4s\tremaining: 2.87s\n",
      "783:\tlearn: 0.3702915\ttotal: 10.4s\tremaining: 2.86s\n",
      "784:\tlearn: 0.3702594\ttotal: 10.4s\tremaining: 2.84s\n",
      "785:\tlearn: 0.3702094\ttotal: 10.4s\tremaining: 2.83s\n",
      "786:\tlearn: 0.3701564\ttotal: 10.4s\tremaining: 2.82s\n",
      "787:\tlearn: 0.3701357\ttotal: 10.4s\tremaining: 2.8s\n",
      "788:\tlearn: 0.3700924\ttotal: 10.4s\tremaining: 2.79s\n",
      "789:\tlearn: 0.3700488\ttotal: 10.4s\tremaining: 2.77s\n",
      "790:\tlearn: 0.3699905\ttotal: 10.4s\tremaining: 2.76s\n",
      "791:\tlearn: 0.3699136\ttotal: 10.5s\tremaining: 2.74s\n",
      "792:\tlearn: 0.3698548\ttotal: 10.5s\tremaining: 2.73s\n",
      "793:\tlearn: 0.3698017\ttotal: 10.5s\tremaining: 2.72s\n",
      "794:\tlearn: 0.3697650\ttotal: 10.5s\tremaining: 2.7s\n",
      "795:\tlearn: 0.3697116\ttotal: 10.5s\tremaining: 2.69s\n",
      "796:\tlearn: 0.3696958\ttotal: 10.5s\tremaining: 2.67s\n",
      "797:\tlearn: 0.3696470\ttotal: 10.5s\tremaining: 2.66s\n",
      "798:\tlearn: 0.3696124\ttotal: 10.5s\tremaining: 2.65s\n",
      "799:\tlearn: 0.3695625\ttotal: 10.5s\tremaining: 2.63s\n",
      "800:\tlearn: 0.3695013\ttotal: 10.5s\tremaining: 2.62s\n",
      "801:\tlearn: 0.3694320\ttotal: 10.6s\tremaining: 2.6s\n",
      "802:\tlearn: 0.3693425\ttotal: 10.6s\tremaining: 2.59s\n",
      "803:\tlearn: 0.3693004\ttotal: 10.6s\tremaining: 2.58s\n",
      "804:\tlearn: 0.3692572\ttotal: 10.6s\tremaining: 2.56s\n",
      "805:\tlearn: 0.3692202\ttotal: 10.6s\tremaining: 2.55s\n",
      "806:\tlearn: 0.3691559\ttotal: 10.6s\tremaining: 2.53s\n",
      "807:\tlearn: 0.3691059\ttotal: 10.6s\tremaining: 2.52s\n",
      "808:\tlearn: 0.3690752\ttotal: 10.6s\tremaining: 2.5s\n",
      "809:\tlearn: 0.3689913\ttotal: 10.6s\tremaining: 2.49s\n",
      "810:\tlearn: 0.3689443\ttotal: 10.6s\tremaining: 2.48s\n",
      "811:\tlearn: 0.3689022\ttotal: 10.6s\tremaining: 2.46s\n",
      "812:\tlearn: 0.3688619\ttotal: 10.6s\tremaining: 2.45s\n",
      "813:\tlearn: 0.3688237\ttotal: 10.7s\tremaining: 2.43s\n",
      "814:\tlearn: 0.3687536\ttotal: 10.7s\tremaining: 2.42s\n",
      "815:\tlearn: 0.3687080\ttotal: 10.7s\tremaining: 2.41s\n",
      "816:\tlearn: 0.3686655\ttotal: 10.7s\tremaining: 2.39s\n",
      "817:\tlearn: 0.3686181\ttotal: 10.7s\tremaining: 2.38s\n",
      "818:\tlearn: 0.3685442\ttotal: 10.7s\tremaining: 2.36s\n",
      "819:\tlearn: 0.3684983\ttotal: 10.7s\tremaining: 2.35s\n",
      "820:\tlearn: 0.3684646\ttotal: 10.7s\tremaining: 2.34s\n",
      "821:\tlearn: 0.3683954\ttotal: 10.7s\tremaining: 2.32s\n",
      "822:\tlearn: 0.3683328\ttotal: 10.7s\tremaining: 2.31s\n",
      "823:\tlearn: 0.3682758\ttotal: 10.8s\tremaining: 2.3s\n",
      "824:\tlearn: 0.3682052\ttotal: 10.8s\tremaining: 2.28s\n",
      "825:\tlearn: 0.3681331\ttotal: 10.8s\tremaining: 2.27s\n",
      "826:\tlearn: 0.3680979\ttotal: 10.8s\tremaining: 2.25s\n",
      "827:\tlearn: 0.3680572\ttotal: 10.8s\tremaining: 2.24s\n",
      "828:\tlearn: 0.3680003\ttotal: 10.8s\tremaining: 2.23s\n",
      "829:\tlearn: 0.3679605\ttotal: 10.8s\tremaining: 2.21s\n",
      "830:\tlearn: 0.3679142\ttotal: 10.8s\tremaining: 2.2s\n",
      "831:\tlearn: 0.3678567\ttotal: 10.8s\tremaining: 2.19s\n",
      "832:\tlearn: 0.3677913\ttotal: 10.8s\tremaining: 2.17s\n",
      "833:\tlearn: 0.3677375\ttotal: 10.8s\tremaining: 2.16s\n",
      "834:\tlearn: 0.3676676\ttotal: 10.8s\tremaining: 2.14s\n",
      "835:\tlearn: 0.3676237\ttotal: 10.9s\tremaining: 2.13s\n",
      "836:\tlearn: 0.3675974\ttotal: 10.9s\tremaining: 2.12s\n",
      "837:\tlearn: 0.3675420\ttotal: 10.9s\tremaining: 2.1s\n",
      "838:\tlearn: 0.3674932\ttotal: 10.9s\tremaining: 2.09s\n",
      "839:\tlearn: 0.3674268\ttotal: 10.9s\tremaining: 2.07s\n",
      "840:\tlearn: 0.3673649\ttotal: 10.9s\tremaining: 2.06s\n",
      "841:\tlearn: 0.3673104\ttotal: 10.9s\tremaining: 2.05s\n",
      "842:\tlearn: 0.3672850\ttotal: 10.9s\tremaining: 2.03s\n",
      "843:\tlearn: 0.3672624\ttotal: 10.9s\tremaining: 2.02s\n",
      "844:\tlearn: 0.3672025\ttotal: 10.9s\tremaining: 2.01s\n",
      "845:\tlearn: 0.3671608\ttotal: 11s\tremaining: 1.99s\n",
      "846:\tlearn: 0.3671312\ttotal: 11s\tremaining: 1.98s\n",
      "847:\tlearn: 0.3671019\ttotal: 11s\tremaining: 1.97s\n",
      "848:\tlearn: 0.3670488\ttotal: 11s\tremaining: 1.95s\n",
      "849:\tlearn: 0.3669935\ttotal: 11s\tremaining: 1.94s\n",
      "850:\tlearn: 0.3669452\ttotal: 11s\tremaining: 1.93s\n",
      "851:\tlearn: 0.3669211\ttotal: 11s\tremaining: 1.91s\n",
      "852:\tlearn: 0.3668636\ttotal: 11s\tremaining: 1.9s\n",
      "853:\tlearn: 0.3668093\ttotal: 11s\tremaining: 1.88s\n",
      "854:\tlearn: 0.3667735\ttotal: 11s\tremaining: 1.87s\n",
      "855:\tlearn: 0.3667495\ttotal: 11s\tremaining: 1.86s\n",
      "856:\tlearn: 0.3667022\ttotal: 11.1s\tremaining: 1.84s\n",
      "857:\tlearn: 0.3666518\ttotal: 11.1s\tremaining: 1.83s\n",
      "858:\tlearn: 0.3666046\ttotal: 11.1s\tremaining: 1.82s\n",
      "859:\tlearn: 0.3665240\ttotal: 11.1s\tremaining: 1.8s\n",
      "860:\tlearn: 0.3665002\ttotal: 11.1s\tremaining: 1.79s\n",
      "861:\tlearn: 0.3664749\ttotal: 11.1s\tremaining: 1.77s\n",
      "862:\tlearn: 0.3664284\ttotal: 11.1s\tremaining: 1.76s\n",
      "863:\tlearn: 0.3663676\ttotal: 11.1s\tremaining: 1.75s\n",
      "864:\tlearn: 0.3663427\ttotal: 11.1s\tremaining: 1.74s\n",
      "865:\tlearn: 0.3663202\ttotal: 11.1s\tremaining: 1.72s\n",
      "866:\tlearn: 0.3662893\ttotal: 11.1s\tremaining: 1.71s\n",
      "867:\tlearn: 0.3662624\ttotal: 11.2s\tremaining: 1.7s\n",
      "868:\tlearn: 0.3661849\ttotal: 11.2s\tremaining: 1.68s\n",
      "869:\tlearn: 0.3661213\ttotal: 11.2s\tremaining: 1.67s\n",
      "870:\tlearn: 0.3660942\ttotal: 11.2s\tremaining: 1.66s\n",
      "871:\tlearn: 0.3660317\ttotal: 11.2s\tremaining: 1.64s\n",
      "872:\tlearn: 0.3660189\ttotal: 11.2s\tremaining: 1.63s\n",
      "873:\tlearn: 0.3659521\ttotal: 11.2s\tremaining: 1.62s\n",
      "874:\tlearn: 0.3659064\ttotal: 11.2s\tremaining: 1.6s\n",
      "875:\tlearn: 0.3658500\ttotal: 11.2s\tremaining: 1.59s\n",
      "876:\tlearn: 0.3658196\ttotal: 11.2s\tremaining: 1.58s\n",
      "877:\tlearn: 0.3657459\ttotal: 11.2s\tremaining: 1.56s\n",
      "878:\tlearn: 0.3656856\ttotal: 11.3s\tremaining: 1.55s\n",
      "879:\tlearn: 0.3656346\ttotal: 11.3s\tremaining: 1.54s\n",
      "880:\tlearn: 0.3655919\ttotal: 11.3s\tremaining: 1.52s\n",
      "881:\tlearn: 0.3655744\ttotal: 11.3s\tremaining: 1.51s\n",
      "882:\tlearn: 0.3655134\ttotal: 11.3s\tremaining: 1.5s\n",
      "883:\tlearn: 0.3654519\ttotal: 11.3s\tremaining: 1.48s\n",
      "884:\tlearn: 0.3654108\ttotal: 11.3s\tremaining: 1.47s\n",
      "885:\tlearn: 0.3653549\ttotal: 11.3s\tremaining: 1.46s\n",
      "886:\tlearn: 0.3652817\ttotal: 11.3s\tremaining: 1.44s\n",
      "887:\tlearn: 0.3652503\ttotal: 11.3s\tremaining: 1.43s\n",
      "888:\tlearn: 0.3651974\ttotal: 11.3s\tremaining: 1.42s\n",
      "889:\tlearn: 0.3651387\ttotal: 11.4s\tremaining: 1.4s\n",
      "890:\tlearn: 0.3650946\ttotal: 11.4s\tremaining: 1.39s\n",
      "891:\tlearn: 0.3650652\ttotal: 11.4s\tremaining: 1.38s\n",
      "892:\tlearn: 0.3650135\ttotal: 11.4s\tremaining: 1.36s\n",
      "893:\tlearn: 0.3649448\ttotal: 11.4s\tremaining: 1.35s\n",
      "894:\tlearn: 0.3649334\ttotal: 11.4s\tremaining: 1.34s\n",
      "895:\tlearn: 0.3648591\ttotal: 11.4s\tremaining: 1.32s\n",
      "896:\tlearn: 0.3648018\ttotal: 11.4s\tremaining: 1.31s\n",
      "897:\tlearn: 0.3647544\ttotal: 11.4s\tremaining: 1.3s\n",
      "898:\tlearn: 0.3646964\ttotal: 11.4s\tremaining: 1.28s\n",
      "899:\tlearn: 0.3646563\ttotal: 11.4s\tremaining: 1.27s\n",
      "900:\tlearn: 0.3646016\ttotal: 11.5s\tremaining: 1.26s\n",
      "901:\tlearn: 0.3645546\ttotal: 11.5s\tremaining: 1.25s\n",
      "902:\tlearn: 0.3645091\ttotal: 11.5s\tremaining: 1.23s\n",
      "903:\tlearn: 0.3644721\ttotal: 11.5s\tremaining: 1.22s\n",
      "904:\tlearn: 0.3644306\ttotal: 11.5s\tremaining: 1.21s\n",
      "905:\tlearn: 0.3643791\ttotal: 11.5s\tremaining: 1.19s\n",
      "906:\tlearn: 0.3643213\ttotal: 11.5s\tremaining: 1.18s\n",
      "907:\tlearn: 0.3642544\ttotal: 11.5s\tremaining: 1.17s\n",
      "908:\tlearn: 0.3642107\ttotal: 11.5s\tremaining: 1.15s\n",
      "909:\tlearn: 0.3641668\ttotal: 11.5s\tremaining: 1.14s\n",
      "910:\tlearn: 0.3641446\ttotal: 11.5s\tremaining: 1.13s\n",
      "911:\tlearn: 0.3641026\ttotal: 11.6s\tremaining: 1.11s\n",
      "912:\tlearn: 0.3640626\ttotal: 11.6s\tremaining: 1.1s\n",
      "913:\tlearn: 0.3640127\ttotal: 11.6s\tremaining: 1.09s\n",
      "914:\tlearn: 0.3639602\ttotal: 11.6s\tremaining: 1.08s\n",
      "915:\tlearn: 0.3639146\ttotal: 11.6s\tremaining: 1.06s\n",
      "916:\tlearn: 0.3638660\ttotal: 11.6s\tremaining: 1.05s\n",
      "917:\tlearn: 0.3638474\ttotal: 11.6s\tremaining: 1.04s\n",
      "918:\tlearn: 0.3638191\ttotal: 11.6s\tremaining: 1.02s\n",
      "919:\tlearn: 0.3637708\ttotal: 11.6s\tremaining: 1.01s\n",
      "920:\tlearn: 0.3637335\ttotal: 11.6s\tremaining: 998ms\n",
      "921:\tlearn: 0.3636942\ttotal: 11.6s\tremaining: 985ms\n",
      "922:\tlearn: 0.3636432\ttotal: 11.7s\tremaining: 972ms\n",
      "923:\tlearn: 0.3636143\ttotal: 11.7s\tremaining: 959ms\n",
      "924:\tlearn: 0.3635632\ttotal: 11.7s\tremaining: 946ms\n",
      "925:\tlearn: 0.3635172\ttotal: 11.7s\tremaining: 933ms\n",
      "926:\tlearn: 0.3634858\ttotal: 11.7s\tremaining: 920ms\n",
      "927:\tlearn: 0.3634303\ttotal: 11.7s\tremaining: 908ms\n",
      "928:\tlearn: 0.3633927\ttotal: 11.7s\tremaining: 895ms\n",
      "929:\tlearn: 0.3633556\ttotal: 11.7s\tremaining: 882ms\n",
      "930:\tlearn: 0.3633059\ttotal: 11.7s\tremaining: 869ms\n",
      "931:\tlearn: 0.3632539\ttotal: 11.7s\tremaining: 856ms\n",
      "932:\tlearn: 0.3632296\ttotal: 11.7s\tremaining: 843ms\n",
      "933:\tlearn: 0.3631923\ttotal: 11.7s\tremaining: 830ms\n",
      "934:\tlearn: 0.3631597\ttotal: 11.8s\tremaining: 817ms\n",
      "935:\tlearn: 0.3631131\ttotal: 11.8s\tremaining: 805ms\n",
      "936:\tlearn: 0.3630637\ttotal: 11.8s\tremaining: 792ms\n",
      "937:\tlearn: 0.3630156\ttotal: 11.8s\tremaining: 779ms\n",
      "938:\tlearn: 0.3629930\ttotal: 11.8s\tremaining: 767ms\n",
      "939:\tlearn: 0.3629367\ttotal: 11.8s\tremaining: 754ms\n",
      "940:\tlearn: 0.3628954\ttotal: 11.8s\tremaining: 741ms\n",
      "941:\tlearn: 0.3628662\ttotal: 11.8s\tremaining: 728ms\n",
      "942:\tlearn: 0.3628481\ttotal: 11.8s\tremaining: 716ms\n",
      "943:\tlearn: 0.3627975\ttotal: 11.8s\tremaining: 703ms\n",
      "944:\tlearn: 0.3627227\ttotal: 11.9s\tremaining: 690ms\n",
      "945:\tlearn: 0.3626709\ttotal: 11.9s\tremaining: 677ms\n",
      "946:\tlearn: 0.3626082\ttotal: 11.9s\tremaining: 664ms\n",
      "947:\tlearn: 0.3625739\ttotal: 11.9s\tremaining: 652ms\n",
      "948:\tlearn: 0.3625231\ttotal: 11.9s\tremaining: 639ms\n",
      "949:\tlearn: 0.3624688\ttotal: 11.9s\tremaining: 626ms\n",
      "950:\tlearn: 0.3624333\ttotal: 11.9s\tremaining: 614ms\n",
      "951:\tlearn: 0.3624066\ttotal: 11.9s\tremaining: 601ms\n",
      "952:\tlearn: 0.3623520\ttotal: 11.9s\tremaining: 588ms\n",
      "953:\tlearn: 0.3622815\ttotal: 11.9s\tremaining: 575ms\n",
      "954:\tlearn: 0.3622493\ttotal: 11.9s\tremaining: 563ms\n",
      "955:\tlearn: 0.3622206\ttotal: 11.9s\tremaining: 550ms\n",
      "956:\tlearn: 0.3621705\ttotal: 12s\tremaining: 537ms\n",
      "957:\tlearn: 0.3621208\ttotal: 12s\tremaining: 525ms\n",
      "958:\tlearn: 0.3620888\ttotal: 12s\tremaining: 512ms\n",
      "959:\tlearn: 0.3620505\ttotal: 12s\tremaining: 499ms\n",
      "960:\tlearn: 0.3620008\ttotal: 12s\tremaining: 487ms\n",
      "961:\tlearn: 0.3619766\ttotal: 12s\tremaining: 474ms\n",
      "962:\tlearn: 0.3619294\ttotal: 12s\tremaining: 462ms\n",
      "963:\tlearn: 0.3618771\ttotal: 12s\tremaining: 449ms\n",
      "964:\tlearn: 0.3618443\ttotal: 12s\tremaining: 437ms\n",
      "965:\tlearn: 0.3617969\ttotal: 12s\tremaining: 424ms\n",
      "966:\tlearn: 0.3617736\ttotal: 12.1s\tremaining: 411ms\n",
      "967:\tlearn: 0.3617194\ttotal: 12.1s\tremaining: 399ms\n",
      "968:\tlearn: 0.3616702\ttotal: 12.1s\tremaining: 386ms\n",
      "969:\tlearn: 0.3616102\ttotal: 12.1s\tremaining: 374ms\n",
      "970:\tlearn: 0.3615508\ttotal: 12.1s\tremaining: 361ms\n",
      "971:\tlearn: 0.3615079\ttotal: 12.1s\tremaining: 349ms\n",
      "972:\tlearn: 0.3614435\ttotal: 12.1s\tremaining: 336ms\n",
      "973:\tlearn: 0.3613976\ttotal: 12.1s\tremaining: 324ms\n",
      "974:\tlearn: 0.3613655\ttotal: 12.1s\tremaining: 311ms\n",
      "975:\tlearn: 0.3613224\ttotal: 12.1s\tremaining: 298ms\n",
      "976:\tlearn: 0.3612358\ttotal: 12.1s\tremaining: 286ms\n",
      "977:\tlearn: 0.3611894\ttotal: 12.2s\tremaining: 273ms\n",
      "978:\tlearn: 0.3611486\ttotal: 12.2s\tremaining: 261ms\n",
      "979:\tlearn: 0.3611185\ttotal: 12.2s\tremaining: 248ms\n",
      "980:\tlearn: 0.3610826\ttotal: 12.2s\tremaining: 236ms\n",
      "981:\tlearn: 0.3610348\ttotal: 12.2s\tremaining: 224ms\n",
      "982:\tlearn: 0.3609845\ttotal: 12.2s\tremaining: 211ms\n",
      "983:\tlearn: 0.3609279\ttotal: 12.2s\tremaining: 199ms\n",
      "984:\tlearn: 0.3608770\ttotal: 12.2s\tremaining: 186ms\n",
      "985:\tlearn: 0.3608242\ttotal: 12.2s\tremaining: 174ms\n",
      "986:\tlearn: 0.3607940\ttotal: 12.2s\tremaining: 161ms\n",
      "987:\tlearn: 0.3607575\ttotal: 12.3s\tremaining: 149ms\n",
      "988:\tlearn: 0.3607124\ttotal: 12.3s\tremaining: 136ms\n",
      "989:\tlearn: 0.3606701\ttotal: 12.3s\tremaining: 124ms\n",
      "990:\tlearn: 0.3606251\ttotal: 12.3s\tremaining: 112ms\n",
      "991:\tlearn: 0.3605829\ttotal: 12.3s\tremaining: 99.1ms\n",
      "992:\tlearn: 0.3605102\ttotal: 12.3s\tremaining: 86.7ms\n",
      "993:\tlearn: 0.3604736\ttotal: 12.3s\tremaining: 74.3ms\n",
      "994:\tlearn: 0.3604453\ttotal: 12.3s\tremaining: 61.9ms\n",
      "995:\tlearn: 0.3604059\ttotal: 12.3s\tremaining: 49.5ms\n",
      "996:\tlearn: 0.3603626\ttotal: 12.3s\tremaining: 37.1ms\n",
      "997:\tlearn: 0.3603208\ttotal: 12.3s\tremaining: 24.7ms\n",
      "998:\tlearn: 0.3602786\ttotal: 12.3s\tremaining: 12.4ms\n",
      "999:\tlearn: 0.3602508\ttotal: 12.4s\tremaining: 0us\n",
      "{'Logistic Regression': 0.7975639464068209, 'SVC': 0.7900121802679659, 'KNeighbours': 0.779293544457978, 'Cat Boost': 0.797320341047503, 'XGB': 0.7939098660170524, 'Decision Tree': 0.7400730816077954, 'Random Forest': 0.7722289890377588}\n",
      "Logistic Regression is the best model with accuracy of 0.7975639464068209\n"
     ]
    }
   ],
   "source": [
    "report = {}\n",
    "for i in range(len(list(models))):\n",
    "    model = list(models.values())[i]\n",
    "    model.fit(X_train,y_train)\n",
    "    prediction = model.predict(X_test)\n",
    "    score = accuracy_score(y_test,prediction)\n",
    "    report[list(models.keys())[i]] = score\n",
    "best_score = max(sorted(list(report.values())))\n",
    "for k,v in report.items():\n",
    "    if v == best_score:\n",
    "        best_model_name = k\n",
    "        break\n",
    "print(report)\n",
    "print(f\"{best_model_name} is the best model with accuracy of {best_score}\")"
   ]
  },
  {
   "cell_type": "code",
   "execution_count": 45,
   "metadata": {},
   "outputs": [
    {
     "data": {
      "text/html": [
       "<div>\n",
       "<style scoped>\n",
       "    .dataframe tbody tr th:only-of-type {\n",
       "        vertical-align: middle;\n",
       "    }\n",
       "\n",
       "    .dataframe tbody tr th {\n",
       "        vertical-align: top;\n",
       "    }\n",
       "\n",
       "    .dataframe thead th {\n",
       "        text-align: right;\n",
       "    }\n",
       "</style>\n",
       "<table border=\"1\" class=\"dataframe\">\n",
       "  <thead>\n",
       "    <tr style=\"text-align: right;\">\n",
       "      <th></th>\n",
       "      <th>age</th>\n",
       "      <th>workclass</th>\n",
       "      <th>education</th>\n",
       "      <th>marital-status</th>\n",
       "      <th>occupation</th>\n",
       "      <th>relationship</th>\n",
       "      <th>race</th>\n",
       "      <th>gender</th>\n",
       "      <th>income_&gt;50K</th>\n",
       "    </tr>\n",
       "  </thead>\n",
       "  <tbody>\n",
       "    <tr>\n",
       "      <th>0</th>\n",
       "      <td>32</td>\n",
       "      <td>Private</td>\n",
       "      <td>Masters</td>\n",
       "      <td>Married-civ-spouse</td>\n",
       "      <td>Exec-managerial</td>\n",
       "      <td>Husband</td>\n",
       "      <td>White</td>\n",
       "      <td>1</td>\n",
       "      <td>1</td>\n",
       "    </tr>\n",
       "    <tr>\n",
       "      <th>1</th>\n",
       "      <td>38</td>\n",
       "      <td>Private</td>\n",
       "      <td>11th</td>\n",
       "      <td>Married-civ-spouse</td>\n",
       "      <td>Sales</td>\n",
       "      <td>Husband</td>\n",
       "      <td>White</td>\n",
       "      <td>1</td>\n",
       "      <td>0</td>\n",
       "    </tr>\n",
       "    <tr>\n",
       "      <th>2</th>\n",
       "      <td>50</td>\n",
       "      <td>Private</td>\n",
       "      <td>Masters</td>\n",
       "      <td>Married-civ-spouse</td>\n",
       "      <td>Sales</td>\n",
       "      <td>Husband</td>\n",
       "      <td>White</td>\n",
       "      <td>1</td>\n",
       "      <td>1</td>\n",
       "    </tr>\n",
       "    <tr>\n",
       "      <th>3</th>\n",
       "      <td>45</td>\n",
       "      <td>Private</td>\n",
       "      <td>Bachelors</td>\n",
       "      <td>Married-civ-spouse</td>\n",
       "      <td>Craft-repair</td>\n",
       "      <td>Husband</td>\n",
       "      <td>White</td>\n",
       "      <td>1</td>\n",
       "      <td>1</td>\n",
       "    </tr>\n",
       "    <tr>\n",
       "      <th>4</th>\n",
       "      <td>24</td>\n",
       "      <td>Private</td>\n",
       "      <td>Bachelors</td>\n",
       "      <td>Never-married</td>\n",
       "      <td>Adm-clerical</td>\n",
       "      <td>Not-in-family</td>\n",
       "      <td>White</td>\n",
       "      <td>0</td>\n",
       "      <td>0</td>\n",
       "    </tr>\n",
       "  </tbody>\n",
       "</table>\n",
       "</div>"
      ],
      "text/plain": [
       "   age workclass  education      marital-status       occupation  \\\n",
       "0   32   Private    Masters  Married-civ-spouse  Exec-managerial   \n",
       "1   38   Private       11th  Married-civ-spouse            Sales   \n",
       "2   50   Private    Masters  Married-civ-spouse            Sales   \n",
       "3   45   Private  Bachelors  Married-civ-spouse     Craft-repair   \n",
       "4   24   Private  Bachelors       Never-married     Adm-clerical   \n",
       "\n",
       "    relationship   race  gender  income_>50K  \n",
       "0        Husband  White       1            1  \n",
       "1        Husband  White       1            0  \n",
       "2        Husband  White       1            1  \n",
       "3        Husband  White       1            1  \n",
       "4  Not-in-family  White       0            0  "
      ]
     },
     "execution_count": 45,
     "metadata": {},
     "output_type": "execute_result"
    }
   ],
   "source": [
    "df.head()"
   ]
  },
  {
   "cell_type": "code",
   "execution_count": 46,
   "metadata": {},
   "outputs": [],
   "source": [
    "df.to_csv('C:/Users/odhia/OneDrive/Desktop/mlopsProjects/notebook/data/processed_data.csv',index=False)"
   ]
  },
  {
   "cell_type": "code",
   "execution_count": null,
   "metadata": {},
   "outputs": [],
   "source": []
  }
 ],
 "metadata": {
  "kernelspec": {
   "display_name": ".venv",
   "language": "python",
   "name": "python3"
  },
  "language_info": {
   "codemirror_mode": {
    "name": "ipython",
    "version": 3
   },
   "file_extension": ".py",
   "mimetype": "text/x-python",
   "name": "python",
   "nbconvert_exporter": "python",
   "pygments_lexer": "ipython3",
   "version": "3.11.3"
  }
 },
 "nbformat": 4,
 "nbformat_minor": 2
}
